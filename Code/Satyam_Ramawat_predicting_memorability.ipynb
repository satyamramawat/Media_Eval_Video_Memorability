{
  "nbformat": 4,
  "nbformat_minor": 0,
  "metadata": {
    "colab": {
      "name": "CA684_19210520.ipynb",
      "provenance": [],
      "collapsed_sections": []
    },
    "kernelspec": {
      "name": "python3",
      "display_name": "Python 3"
    }
  },
  "cells": [
    {
      "cell_type": "markdown",
      "metadata": {
        "id": "uqTWIzluU7l6",
        "colab_type": "text"
      },
      "source": [
        "#Author - Satyam Ramawat (19210520)\n",
        "##CA684 - Video Memoribility Assignment\n",
        "\n",
        "**In this work, To Predict video memoriablity the below list of Features has been explored with three Models. Spearman's Correlation Coffiecient Rank Score has been generated in order to understand which feature is best suitable for prediction.**\n",
        "\n",
        "\n",
        "**A) Features Explored**\n",
        "\n",
        "1.   *Semantic Feature:* ***Only Captions***\n",
        "2.   *Semantic Feature:* ***Weighted Captions***\n",
        "3.   *Video Feature:* **HMP**\n",
        "4.   *Semantic + Video Feature:* **HMP + Caption**\n",
        "\n",
        "**Model Used in Each Features**\n",
        "*   Linear Regression Model\n",
        "*   Decision Tree Model\n",
        "*   Random Forest with Estimator 10 & 100\n",
        "\n",
        "**Final Conclusion Over explored features**\n",
        "\n",
        "**B) Building Final Machine Learning Model**\n",
        "\n",
        "Built Final Machine Learning model by using Best Feature after exploring all features.\n",
        "\n",
        "**C) SAVING RESULTS INTO CSV**\n",
        "\n",
        "Saving Final Results of ML Model, Short-Term Memoribility and Long-Term Memoribility has been saved in Ground_Truth_Test_Set where CSV name would be **\"Ground_Test_Prediction.csv\"**."
      ]
    },
    {
      "cell_type": "code",
      "metadata": {
        "id": "VhMb1t9eTUD2",
        "colab_type": "code",
        "colab": {}
      },
      "source": [
        "import pandas\n",
        "import numpy\n",
        "import os\n",
        "import glob\n",
        "import matplotlib.pyplot as plt"
      ],
      "execution_count": 0,
      "outputs": []
    },
    {
      "cell_type": "code",
      "metadata": {
        "id": "uOWb3D_-T9ad",
        "colab_type": "code",
        "outputId": "24e49bb8-08d2-448e-b247-d1bfeff27169",
        "colab": {
          "base_uri": "https://localhost:8080/",
          "height": 122
        }
      },
      "source": [
        "from google.colab import drive\n",
        "import os\n",
        "drive.mount('/content/drive/')\n",
        "os.chdir('/content/drive/My Drive/CA684_Assignment/')"
      ],
      "execution_count": 0,
      "outputs": [
        {
          "output_type": "stream",
          "text": [
            "Go to this URL in a browser: https://accounts.google.com/o/oauth2/auth?client_id=947318989803-6bn6qk8qdgf4n4g3pfee6491hc0brc4i.apps.googleusercontent.com&redirect_uri=urn%3aietf%3awg%3aoauth%3a2.0%3aoob&response_type=code&scope=email%20https%3a%2f%2fwww.googleapis.com%2fauth%2fdocs.test%20https%3a%2f%2fwww.googleapis.com%2fauth%2fdrive%20https%3a%2f%2fwww.googleapis.com%2fauth%2fdrive.photos.readonly%20https%3a%2f%2fwww.googleapis.com%2fauth%2fpeopleapi.readonly\n",
            "\n",
            "Enter your authorization code:\n",
            "··········\n",
            "Mounted at /content/drive/\n"
          ],
          "name": "stdout"
        }
      ]
    },
    {
      "cell_type": "markdown",
      "metadata": {
        "id": "hhTK9I2dqjXN",
        "colab_type": "text"
      },
      "source": [
        "**A) Semantic Feature: Weighted Caption using TFIDF.**\n",
        "\n",
        "---\n",
        "\n"
      ]
    },
    {
      "cell_type": "markdown",
      "metadata": {
        "id": "QPWhU6K-mVEv",
        "colab_type": "text"
      },
      "source": [
        "**Let's check are we able to reterive files or not**"
      ]
    },
    {
      "cell_type": "code",
      "metadata": {
        "id": "I5Iols6blrvd",
        "colab_type": "code",
        "outputId": "fbc62e37-9cd3-45ff-9221-373b03b04b5c",
        "colab": {
          "base_uri": "https://localhost:8080/",
          "height": 51
        }
      },
      "source": [
        "%ls '/content/drive/My Drive/CA684_Assignment/'"
      ],
      "execution_count": 0,
      "outputs": [
        {
          "output_type": "stream",
          "text": [
            "\u001b[0m\u001b[01;34mAdditional_Resources\u001b[0m/  \u001b[01;34mComplete_Sources\u001b[0m/  \u001b[01;34mTest-set\u001b[0m/\n",
            "\u001b[01;34mAssignment_Overview\u001b[0m/   \u001b[01;34mDev-set\u001b[0m/           \u001b[01;34mTutorials\u001b[0m/\n"
          ],
          "name": "stdout"
        }
      ]
    },
    {
      "cell_type": "markdown",
      "metadata": {
        "id": "iIE1kmKPZUl4",
        "colab_type": "text"
      },
      "source": [
        "**First training model on ground truth**\n",
        "\n",
        "\n"
      ]
    },
    {
      "cell_type": "code",
      "metadata": {
        "id": "TRcQnCQFUOg7",
        "colab_type": "code",
        "outputId": "5cb7d32f-e85a-4a13-d1ba-543438d9a81b",
        "colab": {
          "base_uri": "https://localhost:8080/",
          "height": 85
        }
      },
      "source": [
        "!pip install pyprind"
      ],
      "execution_count": 0,
      "outputs": [
        {
          "output_type": "stream",
          "text": [
            "Collecting pyprind\n",
            "  Downloading https://files.pythonhosted.org/packages/1e/30/e76fb0c45da8aef49ea8d2a90d4e7a6877b45894c25f12fb961f009a891e/PyPrind-2.11.2-py3-none-any.whl\n",
            "Installing collected packages: pyprind\n",
            "Successfully installed pyprind-2.11.2\n"
          ],
          "name": "stdout"
        }
      ]
    },
    {
      "cell_type": "code",
      "metadata": {
        "id": "eQrAMq3gkvkJ",
        "colab_type": "code",
        "colab": {}
      },
      "source": [
        "GroundTruth_Train = pandas.read_csv('/content/drive/My Drive/CA684_Assignment/Dev-set/Ground-truth/ground-truth.csv')"
      ],
      "execution_count": 0,
      "outputs": []
    },
    {
      "cell_type": "markdown",
      "metadata": {
        "id": "YctacO-aZRye",
        "colab_type": "text"
      },
      "source": [
        ""
      ]
    },
    {
      "cell_type": "code",
      "metadata": {
        "id": "sYI5uGH4mKLV",
        "colab_type": "code",
        "outputId": "71c36dd0-10d2-40eb-8fae-bb815a22edbf",
        "colab": {
          "base_uri": "https://localhost:8080/",
          "height": 204
        }
      },
      "source": [
        "GroundTruth_Train.head()"
      ],
      "execution_count": 0,
      "outputs": [
        {
          "output_type": "execute_result",
          "data": {
            "text/html": [
              "<div>\n",
              "<style scoped>\n",
              "    .dataframe tbody tr th:only-of-type {\n",
              "        vertical-align: middle;\n",
              "    }\n",
              "\n",
              "    .dataframe tbody tr th {\n",
              "        vertical-align: top;\n",
              "    }\n",
              "\n",
              "    .dataframe thead th {\n",
              "        text-align: right;\n",
              "    }\n",
              "</style>\n",
              "<table border=\"1\" class=\"dataframe\">\n",
              "  <thead>\n",
              "    <tr style=\"text-align: right;\">\n",
              "      <th></th>\n",
              "      <th>video</th>\n",
              "      <th>short-term_memorability</th>\n",
              "      <th>nb_short-term_annotations</th>\n",
              "      <th>long-term_memorability</th>\n",
              "      <th>nb_long-term_annotations</th>\n",
              "    </tr>\n",
              "  </thead>\n",
              "  <tbody>\n",
              "    <tr>\n",
              "      <th>0</th>\n",
              "      <td>video3.webm</td>\n",
              "      <td>0.924</td>\n",
              "      <td>34</td>\n",
              "      <td>0.846</td>\n",
              "      <td>13</td>\n",
              "    </tr>\n",
              "    <tr>\n",
              "      <th>1</th>\n",
              "      <td>video4.webm</td>\n",
              "      <td>0.923</td>\n",
              "      <td>33</td>\n",
              "      <td>0.667</td>\n",
              "      <td>12</td>\n",
              "    </tr>\n",
              "    <tr>\n",
              "      <th>2</th>\n",
              "      <td>video6.webm</td>\n",
              "      <td>0.863</td>\n",
              "      <td>33</td>\n",
              "      <td>0.700</td>\n",
              "      <td>10</td>\n",
              "    </tr>\n",
              "    <tr>\n",
              "      <th>3</th>\n",
              "      <td>video8.webm</td>\n",
              "      <td>0.922</td>\n",
              "      <td>33</td>\n",
              "      <td>0.818</td>\n",
              "      <td>11</td>\n",
              "    </tr>\n",
              "    <tr>\n",
              "      <th>4</th>\n",
              "      <td>video10.webm</td>\n",
              "      <td>0.950</td>\n",
              "      <td>34</td>\n",
              "      <td>0.900</td>\n",
              "      <td>10</td>\n",
              "    </tr>\n",
              "  </tbody>\n",
              "</table>\n",
              "</div>"
            ],
            "text/plain": [
              "          video  ...  nb_long-term_annotations\n",
              "0   video3.webm  ...                        13\n",
              "1   video4.webm  ...                        12\n",
              "2   video6.webm  ...                        10\n",
              "3   video8.webm  ...                        11\n",
              "4  video10.webm  ...                        10\n",
              "\n",
              "[5 rows x 5 columns]"
            ]
          },
          "metadata": {
            "tags": []
          },
          "execution_count": 6
        }
      ]
    },
    {
      "cell_type": "markdown",
      "metadata": {
        "id": "bRgfckvmnMcL",
        "colab_type": "text"
      },
      "source": [
        "**Removing Annotations for Short-Term and Long-Term both, since its not required for the experiment**"
      ]
    },
    {
      "cell_type": "code",
      "metadata": {
        "id": "fIgPw4b9CCFb",
        "colab_type": "code",
        "outputId": "4bd8de75-64bf-41b8-c441-d88948f32f5c",
        "colab": {
          "base_uri": "https://localhost:8080/",
          "height": 204
        }
      },
      "source": [
        "GroundTruth_Train = GroundTruth_Train.drop(['nb_short-term_annotations','nb_long-term_annotations'],axis=1)\n",
        "GroundTruth_Train.head()\n"
      ],
      "execution_count": 0,
      "outputs": [
        {
          "output_type": "execute_result",
          "data": {
            "text/html": [
              "<div>\n",
              "<style scoped>\n",
              "    .dataframe tbody tr th:only-of-type {\n",
              "        vertical-align: middle;\n",
              "    }\n",
              "\n",
              "    .dataframe tbody tr th {\n",
              "        vertical-align: top;\n",
              "    }\n",
              "\n",
              "    .dataframe thead th {\n",
              "        text-align: right;\n",
              "    }\n",
              "</style>\n",
              "<table border=\"1\" class=\"dataframe\">\n",
              "  <thead>\n",
              "    <tr style=\"text-align: right;\">\n",
              "      <th></th>\n",
              "      <th>video</th>\n",
              "      <th>short-term_memorability</th>\n",
              "      <th>long-term_memorability</th>\n",
              "    </tr>\n",
              "  </thead>\n",
              "  <tbody>\n",
              "    <tr>\n",
              "      <th>0</th>\n",
              "      <td>video3.webm</td>\n",
              "      <td>0.924</td>\n",
              "      <td>0.846</td>\n",
              "    </tr>\n",
              "    <tr>\n",
              "      <th>1</th>\n",
              "      <td>video4.webm</td>\n",
              "      <td>0.923</td>\n",
              "      <td>0.667</td>\n",
              "    </tr>\n",
              "    <tr>\n",
              "      <th>2</th>\n",
              "      <td>video6.webm</td>\n",
              "      <td>0.863</td>\n",
              "      <td>0.700</td>\n",
              "    </tr>\n",
              "    <tr>\n",
              "      <th>3</th>\n",
              "      <td>video8.webm</td>\n",
              "      <td>0.922</td>\n",
              "      <td>0.818</td>\n",
              "    </tr>\n",
              "    <tr>\n",
              "      <th>4</th>\n",
              "      <td>video10.webm</td>\n",
              "      <td>0.950</td>\n",
              "      <td>0.900</td>\n",
              "    </tr>\n",
              "  </tbody>\n",
              "</table>\n",
              "</div>"
            ],
            "text/plain": [
              "          video  short-term_memorability  long-term_memorability\n",
              "0   video3.webm                    0.924                   0.846\n",
              "1   video4.webm                    0.923                   0.667\n",
              "2   video6.webm                    0.863                   0.700\n",
              "3   video8.webm                    0.922                   0.818\n",
              "4  video10.webm                    0.950                   0.900"
            ]
          },
          "metadata": {
            "tags": []
          },
          "execution_count": 7
        }
      ]
    },
    {
      "cell_type": "markdown",
      "metadata": {
        "id": "VZt5gReCmsiy",
        "colab_type": "text"
      },
      "source": [
        "Removing .webm from the video column"
      ]
    },
    {
      "cell_type": "code",
      "metadata": {
        "id": "T0YOV7dlmh2V",
        "colab_type": "code",
        "outputId": "29029da8-8da6-4cf1-9f21-6112be30b203",
        "colab": {
          "base_uri": "https://localhost:8080/",
          "height": 204
        }
      },
      "source": [
        "GroundTruth_Train['video'] = GroundTruth_Train['video'].apply(lambda x : x.split('.')[0])\n",
        "GroundTruth_Train.head()"
      ],
      "execution_count": 0,
      "outputs": [
        {
          "output_type": "execute_result",
          "data": {
            "text/html": [
              "<div>\n",
              "<style scoped>\n",
              "    .dataframe tbody tr th:only-of-type {\n",
              "        vertical-align: middle;\n",
              "    }\n",
              "\n",
              "    .dataframe tbody tr th {\n",
              "        vertical-align: top;\n",
              "    }\n",
              "\n",
              "    .dataframe thead th {\n",
              "        text-align: right;\n",
              "    }\n",
              "</style>\n",
              "<table border=\"1\" class=\"dataframe\">\n",
              "  <thead>\n",
              "    <tr style=\"text-align: right;\">\n",
              "      <th></th>\n",
              "      <th>video</th>\n",
              "      <th>short-term_memorability</th>\n",
              "      <th>long-term_memorability</th>\n",
              "    </tr>\n",
              "  </thead>\n",
              "  <tbody>\n",
              "    <tr>\n",
              "      <th>0</th>\n",
              "      <td>video3</td>\n",
              "      <td>0.924</td>\n",
              "      <td>0.846</td>\n",
              "    </tr>\n",
              "    <tr>\n",
              "      <th>1</th>\n",
              "      <td>video4</td>\n",
              "      <td>0.923</td>\n",
              "      <td>0.667</td>\n",
              "    </tr>\n",
              "    <tr>\n",
              "      <th>2</th>\n",
              "      <td>video6</td>\n",
              "      <td>0.863</td>\n",
              "      <td>0.700</td>\n",
              "    </tr>\n",
              "    <tr>\n",
              "      <th>3</th>\n",
              "      <td>video8</td>\n",
              "      <td>0.922</td>\n",
              "      <td>0.818</td>\n",
              "    </tr>\n",
              "    <tr>\n",
              "      <th>4</th>\n",
              "      <td>video10</td>\n",
              "      <td>0.950</td>\n",
              "      <td>0.900</td>\n",
              "    </tr>\n",
              "  </tbody>\n",
              "</table>\n",
              "</div>"
            ],
            "text/plain": [
              "     video  short-term_memorability  long-term_memorability\n",
              "0   video3                    0.924                   0.846\n",
              "1   video4                    0.923                   0.667\n",
              "2   video6                    0.863                   0.700\n",
              "3   video8                    0.922                   0.818\n",
              "4  video10                    0.950                   0.900"
            ]
          },
          "metadata": {
            "tags": []
          },
          "execution_count": 8
        }
      ]
    },
    {
      "cell_type": "markdown",
      "metadata": {
        "id": "ATDhyZ4vKkEF",
        "colab_type": "text"
      },
      "source": [
        "**Importing Dev set Captions**"
      ]
    },
    {
      "cell_type": "code",
      "metadata": {
        "id": "HZXD4SRJK5Ca",
        "colab_type": "code",
        "outputId": "b3a7e60b-067f-4c4c-8825-f4bd950ac789",
        "colab": {
          "base_uri": "https://localhost:8080/",
          "height": 34
        }
      },
      "source": [
        "%ls '/content/drive/My Drive/CA684_Assignment/Dev-set/Captions/'"
      ],
      "execution_count": 0,
      "outputs": [
        {
          "output_type": "stream",
          "text": [
            "dev-set_video-captions.txt\n"
          ],
          "name": "stdout"
        }
      ]
    },
    {
      "cell_type": "code",
      "metadata": {
        "id": "WTs6_P8JLaqt",
        "colab_type": "code",
        "outputId": "aed70a20-df66-4b21-e8af-0a225758d1a2",
        "colab": {
          "base_uri": "https://localhost:8080/",
          "height": 204
        }
      },
      "source": [
        "Captions_Train = pandas.read_csv('/content/drive/My Drive/CA684_Assignment/Dev-set/Captions/dev-set_video-captions.txt',header= None,names=('video','caption'),delimiter='\\t')\n",
        "Captions_Train.head()"
      ],
      "execution_count": 0,
      "outputs": [
        {
          "output_type": "execute_result",
          "data": {
            "text/html": [
              "<div>\n",
              "<style scoped>\n",
              "    .dataframe tbody tr th:only-of-type {\n",
              "        vertical-align: middle;\n",
              "    }\n",
              "\n",
              "    .dataframe tbody tr th {\n",
              "        vertical-align: top;\n",
              "    }\n",
              "\n",
              "    .dataframe thead th {\n",
              "        text-align: right;\n",
              "    }\n",
              "</style>\n",
              "<table border=\"1\" class=\"dataframe\">\n",
              "  <thead>\n",
              "    <tr style=\"text-align: right;\">\n",
              "      <th></th>\n",
              "      <th>video</th>\n",
              "      <th>caption</th>\n",
              "    </tr>\n",
              "  </thead>\n",
              "  <tbody>\n",
              "    <tr>\n",
              "      <th>0</th>\n",
              "      <td>video3.webm</td>\n",
              "      <td>blonde-woman-is-massaged-tilt-down</td>\n",
              "    </tr>\n",
              "    <tr>\n",
              "      <th>1</th>\n",
              "      <td>video4.webm</td>\n",
              "      <td>roulette-table-spinning-with-ball-in-closeup-shot</td>\n",
              "    </tr>\n",
              "    <tr>\n",
              "      <th>2</th>\n",
              "      <td>video6.webm</td>\n",
              "      <td>khr-gangsters</td>\n",
              "    </tr>\n",
              "    <tr>\n",
              "      <th>3</th>\n",
              "      <td>video8.webm</td>\n",
              "      <td>medical-helicopter-hovers-at-airport</td>\n",
              "    </tr>\n",
              "    <tr>\n",
              "      <th>4</th>\n",
              "      <td>video10.webm</td>\n",
              "      <td>couple-relaxing-on-picnic-crane-shot</td>\n",
              "    </tr>\n",
              "  </tbody>\n",
              "</table>\n",
              "</div>"
            ],
            "text/plain": [
              "          video                                            caption\n",
              "0   video3.webm                 blonde-woman-is-massaged-tilt-down\n",
              "1   video4.webm  roulette-table-spinning-with-ball-in-closeup-shot\n",
              "2   video6.webm                                      khr-gangsters\n",
              "3   video8.webm               medical-helicopter-hovers-at-airport\n",
              "4  video10.webm               couple-relaxing-on-picnic-crane-shot"
            ]
          },
          "metadata": {
            "tags": []
          },
          "execution_count": 10
        }
      ]
    },
    {
      "cell_type": "code",
      "metadata": {
        "id": "3Ve0hdlip5zH",
        "colab_type": "code",
        "outputId": "84671a53-aef2-4583-d4cc-43283afeca44",
        "colab": {
          "base_uri": "https://localhost:8080/",
          "height": 204
        }
      },
      "source": [
        "Captions_Train['video'] = Captions_Train['video'].apply(lambda x : x.split('.')[0])\n",
        "Captions_Train.head()"
      ],
      "execution_count": 0,
      "outputs": [
        {
          "output_type": "execute_result",
          "data": {
            "text/html": [
              "<div>\n",
              "<style scoped>\n",
              "    .dataframe tbody tr th:only-of-type {\n",
              "        vertical-align: middle;\n",
              "    }\n",
              "\n",
              "    .dataframe tbody tr th {\n",
              "        vertical-align: top;\n",
              "    }\n",
              "\n",
              "    .dataframe thead th {\n",
              "        text-align: right;\n",
              "    }\n",
              "</style>\n",
              "<table border=\"1\" class=\"dataframe\">\n",
              "  <thead>\n",
              "    <tr style=\"text-align: right;\">\n",
              "      <th></th>\n",
              "      <th>video</th>\n",
              "      <th>caption</th>\n",
              "    </tr>\n",
              "  </thead>\n",
              "  <tbody>\n",
              "    <tr>\n",
              "      <th>0</th>\n",
              "      <td>video3</td>\n",
              "      <td>blonde-woman-is-massaged-tilt-down</td>\n",
              "    </tr>\n",
              "    <tr>\n",
              "      <th>1</th>\n",
              "      <td>video4</td>\n",
              "      <td>roulette-table-spinning-with-ball-in-closeup-shot</td>\n",
              "    </tr>\n",
              "    <tr>\n",
              "      <th>2</th>\n",
              "      <td>video6</td>\n",
              "      <td>khr-gangsters</td>\n",
              "    </tr>\n",
              "    <tr>\n",
              "      <th>3</th>\n",
              "      <td>video8</td>\n",
              "      <td>medical-helicopter-hovers-at-airport</td>\n",
              "    </tr>\n",
              "    <tr>\n",
              "      <th>4</th>\n",
              "      <td>video10</td>\n",
              "      <td>couple-relaxing-on-picnic-crane-shot</td>\n",
              "    </tr>\n",
              "  </tbody>\n",
              "</table>\n",
              "</div>"
            ],
            "text/plain": [
              "     video                                            caption\n",
              "0   video3                 blonde-woman-is-massaged-tilt-down\n",
              "1   video4  roulette-table-spinning-with-ball-in-closeup-shot\n",
              "2   video6                                      khr-gangsters\n",
              "3   video8               medical-helicopter-hovers-at-airport\n",
              "4  video10               couple-relaxing-on-picnic-crane-shot"
            ]
          },
          "metadata": {
            "tags": []
          },
          "execution_count": 11
        }
      ]
    },
    {
      "cell_type": "markdown",
      "metadata": {
        "id": "b_Uaac1CtOV7",
        "colab_type": "text"
      },
      "source": [
        "Binding GroundTruth_Train and Captions_Train"
      ]
    },
    {
      "cell_type": "code",
      "metadata": {
        "id": "opaOgoU4tNIh",
        "colab_type": "code",
        "colab": {}
      },
      "source": [
        "for line in GroundTruth_Train:\n",
        "    GroundTruth_Train['caption'] = Captions_Train['caption']"
      ],
      "execution_count": 0,
      "outputs": []
    },
    {
      "cell_type": "code",
      "metadata": {
        "id": "Pez2yZrE7XDr",
        "colab_type": "code",
        "outputId": "27ff08aa-b866-4074-d4ea-eef1334c2869",
        "colab": {
          "base_uri": "https://localhost:8080/",
          "height": 204
        }
      },
      "source": [
        "GroundTruth_Train.head()"
      ],
      "execution_count": 0,
      "outputs": [
        {
          "output_type": "execute_result",
          "data": {
            "text/html": [
              "<div>\n",
              "<style scoped>\n",
              "    .dataframe tbody tr th:only-of-type {\n",
              "        vertical-align: middle;\n",
              "    }\n",
              "\n",
              "    .dataframe tbody tr th {\n",
              "        vertical-align: top;\n",
              "    }\n",
              "\n",
              "    .dataframe thead th {\n",
              "        text-align: right;\n",
              "    }\n",
              "</style>\n",
              "<table border=\"1\" class=\"dataframe\">\n",
              "  <thead>\n",
              "    <tr style=\"text-align: right;\">\n",
              "      <th></th>\n",
              "      <th>video</th>\n",
              "      <th>short-term_memorability</th>\n",
              "      <th>long-term_memorability</th>\n",
              "      <th>caption</th>\n",
              "    </tr>\n",
              "  </thead>\n",
              "  <tbody>\n",
              "    <tr>\n",
              "      <th>0</th>\n",
              "      <td>video3</td>\n",
              "      <td>0.924</td>\n",
              "      <td>0.846</td>\n",
              "      <td>blonde-woman-is-massaged-tilt-down</td>\n",
              "    </tr>\n",
              "    <tr>\n",
              "      <th>1</th>\n",
              "      <td>video4</td>\n",
              "      <td>0.923</td>\n",
              "      <td>0.667</td>\n",
              "      <td>roulette-table-spinning-with-ball-in-closeup-shot</td>\n",
              "    </tr>\n",
              "    <tr>\n",
              "      <th>2</th>\n",
              "      <td>video6</td>\n",
              "      <td>0.863</td>\n",
              "      <td>0.700</td>\n",
              "      <td>khr-gangsters</td>\n",
              "    </tr>\n",
              "    <tr>\n",
              "      <th>3</th>\n",
              "      <td>video8</td>\n",
              "      <td>0.922</td>\n",
              "      <td>0.818</td>\n",
              "      <td>medical-helicopter-hovers-at-airport</td>\n",
              "    </tr>\n",
              "    <tr>\n",
              "      <th>4</th>\n",
              "      <td>video10</td>\n",
              "      <td>0.950</td>\n",
              "      <td>0.900</td>\n",
              "      <td>couple-relaxing-on-picnic-crane-shot</td>\n",
              "    </tr>\n",
              "  </tbody>\n",
              "</table>\n",
              "</div>"
            ],
            "text/plain": [
              "     video  ...                                            caption\n",
              "0   video3  ...                 blonde-woman-is-massaged-tilt-down\n",
              "1   video4  ...  roulette-table-spinning-with-ball-in-closeup-shot\n",
              "2   video6  ...                                      khr-gangsters\n",
              "3   video8  ...               medical-helicopter-hovers-at-airport\n",
              "4  video10  ...               couple-relaxing-on-picnic-crane-shot\n",
              "\n",
              "[5 rows x 4 columns]"
            ]
          },
          "metadata": {
            "tags": []
          },
          "execution_count": 13
        }
      ]
    },
    {
      "cell_type": "markdown",
      "metadata": {
        "id": "dj0DkBR1_jRw",
        "colab_type": "text"
      },
      "source": [
        "According to the Media Evaluation paper **Linear Models for Video Memorability Prediction Using Visual and Semantic Features**,  and https://github.com/dazcona/memorability/blob/master/src/notebooks/1.%20EDA%20for%20Captions.ipynb has defined the particular positive words dictionary, thus creating new dictionary in the same way."
      ]
    },
    {
      "cell_type": "markdown",
      "metadata": {
        "id": "I-elWcgjdTZB",
        "colab_type": "text"
      },
      "source": [
        "For further work, using Natural Language Processing libraries NLTK"
      ]
    },
    {
      "cell_type": "code",
      "metadata": {
        "id": "huapUYQFXILQ",
        "colab_type": "code",
        "outputId": "201e2b52-fcaf-46f3-d310-61747b554d4a",
        "colab": {
          "base_uri": "https://localhost:8080/",
          "height": 51
        }
      },
      "source": [
        "import re\n",
        "import nltk \n",
        "nltk.download('stopwords') \n",
        "from nltk.corpus import stopwords\n",
        "from nltk.stem.porter import PorterStemmer\n"
      ],
      "execution_count": 0,
      "outputs": [
        {
          "output_type": "stream",
          "text": [
            "[nltk_data] Downloading package stopwords to /root/nltk_data...\n",
            "[nltk_data]   Unzipping corpora/stopwords.zip.\n"
          ],
          "name": "stdout"
        }
      ]
    },
    {
      "cell_type": "code",
      "metadata": {
        "id": "D3CDEINjzJwo",
        "colab_type": "code",
        "colab": {}
      },
      "source": [
        "positive_words_dict = {'women':16,'woman':16,'eating':15,'putting':14,'lying':13,'girl':12,'selfie':11,'relaxing':10,'jellyfish':9,'cat':8,'super':7,'slow':6,'super':5,'american':4,'potrait':3,'pregnant':2,'couple':1}"
      ],
      "execution_count": 0,
      "outputs": []
    },
    {
      "cell_type": "markdown",
      "metadata": {
        "id": "-eIjioKmfO8K",
        "colab_type": "text"
      },
      "source": [
        "Below loop will pre-process the data and remove all stopwords, special characters and creating a word bag(Corpus). Further using TFIDFvectorizer in order to calculate word occurance of word bad."
      ]
    },
    {
      "cell_type": "code",
      "metadata": {
        "id": "pT0Quh95fPQN",
        "colab_type": "code",
        "colab": {}
      },
      "source": [
        "word_bag = []\n",
        "word_weight = []\n",
        "for i in range(0, 6000):\n",
        "    local_weight = 0\n",
        "    video_caption = re.sub('[^a-zA-Z]', ' ', GroundTruth_Train['caption'][i])\n",
        "    video_caption = video_caption.lower() \n",
        "    video_caption = video_caption.split()\n",
        "    video_caption = [word for word in video_caption if not word in set(stopwords.words('english'))]\n",
        "    for word in video_caption:\n",
        "        if(word in set(positive_words_dict.keys())):\n",
        "                local_weight = local_weight + positive_words_dict[word]\n",
        "    word_weight.append(local_weight)\n",
        "    video_caption = ' '.join(video_caption)\n",
        "    word_bag.append(video_caption)\n",
        "\n",
        "## Creating TfidfVectorizer Object\n",
        "from sklearn.feature_extraction.text import TfidfVectorizer\n",
        "tfidfV = TfidfVectorizer()"
      ],
      "execution_count": 0,
      "outputs": []
    },
    {
      "cell_type": "markdown",
      "metadata": {
        "id": "HOjAJh7H-w4T",
        "colab_type": "text"
      },
      "source": [
        "Using Get_score Method in order to generate Spearman's correlations coefficients. Source: https://colab.research.google.com/drive/1QU6mwHNyxi9ycmnbq2A6YtNInvwDizjz#scrollTo=KETcOBrdk0-f"
      ]
    },
    {
      "cell_type": "code",
      "metadata": {
        "id": "lQUyPWDx--jt",
        "colab_type": "code",
        "colab": {}
      },
      "source": [
        "def Get_score(Y_pred,Y_true):\n",
        "    '''Calculate the Spearmann\"s correlation coefficient'''\n",
        "    Y_pred = numpy.squeeze(Y_pred)\n",
        "    Y_true = numpy.squeeze(Y_true)\n",
        "    if Y_pred.shape != Y_true.shape:\n",
        "        print('Input shapes don\\'t match!')\n",
        "    else:\n",
        "        if len(Y_pred.shape) == 1:\n",
        "            Res = pandas.DataFrame({'Y_true':Y_true,'Y_pred':Y_pred})\n",
        "            score_mat = Res[['Y_true','Y_pred']].corr(method='spearman',min_periods=1)\n",
        "            print('The Spearman\\'s correlation coefficient is: %.3f' % score_mat.iloc[1][0])\n",
        "        else:\n",
        "            for ii in range(Y_pred.shape[1]):\n",
        "                Get_score(Y_pred[:,ii],Y_true[:,ii])"
      ],
      "execution_count": 0,
      "outputs": []
    },
    {
      "cell_type": "code",
      "metadata": {
        "id": "9vBTFCjrWbbA",
        "colab_type": "code",
        "colab": {}
      },
      "source": [
        "Dataframe_weighted = pandas.DataFrame(numpy.array(word_weight).reshape(6000,1))"
      ],
      "execution_count": 0,
      "outputs": []
    },
    {
      "cell_type": "markdown",
      "metadata": {
        "id": "JP466jgUE0wo",
        "colab_type": "text"
      },
      "source": [
        "**TFIDFVectorizer with three models (LinearRegression, Decision Tree Regression Model and Random Forest Regression model)**"
      ]
    },
    {
      "cell_type": "markdown",
      "metadata": {
        "id": "dcwoPksfA0Oh",
        "colab_type": "text"
      },
      "source": [
        "Creating X and Y variables for Train and Test data. "
      ]
    },
    {
      "cell_type": "code",
      "metadata": {
        "id": "s_AI25E9BaCE",
        "colab_type": "code",
        "colab": {}
      },
      "source": [
        "## Tranforming word bag into tfidfvectorizer\n",
        "vectorized_Caption = tfidfV.fit_transform(word_bag).toarray()\n",
        "Vectorized_Dataframe_weighted = numpy.concatenate((vectorized_Caption, Dataframe_weighted), axis=1)"
      ],
      "execution_count": 0,
      "outputs": []
    },
    {
      "cell_type": "code",
      "metadata": {
        "id": "P1ySxFeoumFF",
        "colab_type": "code",
        "colab": {}
      },
      "source": [
        "X = Vectorized_Dataframe_weighted\n",
        "Y = GroundTruth_Train.iloc[:,1:3].values"
      ],
      "execution_count": 0,
      "outputs": []
    },
    {
      "cell_type": "markdown",
      "metadata": {
        "id": "g9oU_SiwCBnd",
        "colab_type": "text"
      },
      "source": [
        "Spliting data in Train and Test set."
      ]
    },
    {
      "cell_type": "code",
      "metadata": {
        "id": "TOP9HyxcB8ex",
        "colab_type": "code",
        "colab": {}
      },
      "source": [
        "from sklearn.model_selection import train_test_split\n",
        "X_train, X_test, y_train, y_test = train_test_split(X,Y, test_size=0.2)"
      ],
      "execution_count": 0,
      "outputs": []
    },
    {
      "cell_type": "markdown",
      "metadata": {
        "id": "6hqkjEKCEeS1",
        "colab_type": "text"
      },
      "source": [
        "**1.** LinearRegression Model"
      ]
    },
    {
      "cell_type": "code",
      "metadata": {
        "id": "AWI9waH99xx2",
        "colab_type": "code",
        "outputId": "3769ebd5-fd4a-429c-a7a8-189f1f5ec7af",
        "colab": {
          "base_uri": "https://localhost:8080/",
          "height": 34
        }
      },
      "source": [
        "from sklearn.linear_model import LinearRegression\n",
        "lr = LinearRegression()\n",
        "lr.fit(X_train,y_train)"
      ],
      "execution_count": 0,
      "outputs": [
        {
          "output_type": "execute_result",
          "data": {
            "text/plain": [
              "LinearRegression(copy_X=True, fit_intercept=True, n_jobs=None, normalize=False)"
            ]
          },
          "metadata": {
            "tags": []
          },
          "execution_count": 22
        }
      ]
    },
    {
      "cell_type": "markdown",
      "metadata": {
        "id": "9bMdLdjfaqS1",
        "colab_type": "text"
      },
      "source": [
        "Predicting and finding spearman's correlation cofficient between Actual and X_test"
      ]
    },
    {
      "cell_type": "code",
      "metadata": {
        "id": "iBiLrhx-aoYn",
        "colab_type": "code",
        "outputId": "ca170436-6d84-4d75-f815-110a664955bd",
        "colab": {
          "base_uri": "https://localhost:8080/",
          "height": 51
        }
      },
      "source": [
        "Prediction = lr.predict(X_test)\n",
        "Get_score(Prediction, y_test)"
      ],
      "execution_count": 0,
      "outputs": [
        {
          "output_type": "stream",
          "text": [
            "The Spearman's correlation coefficient is: 0.132\n",
            "The Spearman's correlation coefficient is: 0.030\n"
          ],
          "name": "stdout"
        }
      ]
    },
    {
      "cell_type": "markdown",
      "metadata": {
        "id": "SohkzwajzqAa",
        "colab_type": "text"
      },
      "source": [
        "**2.** Decision Tree Regression"
      ]
    },
    {
      "cell_type": "code",
      "metadata": {
        "id": "3eLQyiF-zw4S",
        "colab_type": "code",
        "outputId": "d2d6a502-b75c-4461-9589-9dc964a37a6f",
        "colab": {
          "base_uri": "https://localhost:8080/",
          "height": 119
        }
      },
      "source": [
        "from sklearn.tree import DecisionTreeRegressor\n",
        "dtr=DecisionTreeRegressor()\n",
        "dtr.fit(X_train,y_train)"
      ],
      "execution_count": 0,
      "outputs": [
        {
          "output_type": "execute_result",
          "data": {
            "text/plain": [
              "DecisionTreeRegressor(ccp_alpha=0.0, criterion='mse', max_depth=None,\n",
              "                      max_features=None, max_leaf_nodes=None,\n",
              "                      min_impurity_decrease=0.0, min_impurity_split=None,\n",
              "                      min_samples_leaf=1, min_samples_split=2,\n",
              "                      min_weight_fraction_leaf=0.0, presort='deprecated',\n",
              "                      random_state=None, splitter='best')"
            ]
          },
          "metadata": {
            "tags": []
          },
          "execution_count": 24
        }
      ]
    },
    {
      "cell_type": "code",
      "metadata": {
        "id": "bFNqBgU-0jdd",
        "colab_type": "code",
        "outputId": "24b489c7-309d-4307-84d7-354d6d9cf674",
        "colab": {
          "base_uri": "https://localhost:8080/",
          "height": 51
        }
      },
      "source": [
        "Prediction_2 = dtr.predict(X_test)\n",
        "Get_score(Prediction_2, y_test)"
      ],
      "execution_count": 0,
      "outputs": [
        {
          "output_type": "stream",
          "text": [
            "The Spearman's correlation coefficient is: 0.285\n",
            "The Spearman's correlation coefficient is: 0.093\n"
          ],
          "name": "stdout"
        }
      ]
    },
    {
      "cell_type": "markdown",
      "metadata": {
        "id": "ADZw3K31cZum",
        "colab_type": "text"
      },
      "source": [
        "**3.** Random Forest Regressor"
      ]
    },
    {
      "cell_type": "markdown",
      "metadata": {
        "id": "nbKSvzBgc9DK",
        "colab_type": "text"
      },
      "source": [
        "*Creating model on Default estimator = 10*"
      ]
    },
    {
      "cell_type": "code",
      "metadata": {
        "id": "xSxy260ibrLd",
        "colab_type": "code",
        "outputId": "bb6e0d75-4cce-40f5-ec5a-5315590632a5",
        "colab": {
          "base_uri": "https://localhost:8080/",
          "height": 136
        }
      },
      "source": [
        "from sklearn.ensemble import RandomForestRegressor\n",
        "rfr_10 = RandomForestRegressor(max_depth= 20,n_estimators=10)\n",
        "rfr_10.fit(X_train,y_train)"
      ],
      "execution_count": 0,
      "outputs": [
        {
          "output_type": "execute_result",
          "data": {
            "text/plain": [
              "RandomForestRegressor(bootstrap=True, ccp_alpha=0.0, criterion='mse',\n",
              "                      max_depth=20, max_features='auto', max_leaf_nodes=None,\n",
              "                      max_samples=None, min_impurity_decrease=0.0,\n",
              "                      min_impurity_split=None, min_samples_leaf=1,\n",
              "                      min_samples_split=2, min_weight_fraction_leaf=0.0,\n",
              "                      n_estimators=10, n_jobs=None, oob_score=False,\n",
              "                      random_state=None, verbose=0, warm_start=False)"
            ]
          },
          "metadata": {
            "tags": []
          },
          "execution_count": 26
        }
      ]
    },
    {
      "cell_type": "code",
      "metadata": {
        "id": "q2i86TW1zXMJ",
        "colab_type": "code",
        "outputId": "99574faf-3e49-4268-fa1b-f366e5d32abd",
        "colab": {
          "base_uri": "https://localhost:8080/",
          "height": 51
        }
      },
      "source": [
        "Prediction_3 = rfr_10.predict(X_test)\n",
        "Get_score(Prediction_3, y_test)"
      ],
      "execution_count": 0,
      "outputs": [
        {
          "output_type": "stream",
          "text": [
            "The Spearman's correlation coefficient is: 0.294\n",
            "The Spearman's correlation coefficient is: 0.158\n"
          ],
          "name": "stdout"
        }
      ]
    },
    {
      "cell_type": "code",
      "metadata": {
        "id": "NBGZffuO2uQD",
        "colab_type": "code",
        "outputId": "6a51b033-0e19-482a-8fdc-5402e3e2651f",
        "colab": {
          "base_uri": "https://localhost:8080/",
          "height": 136
        }
      },
      "source": [
        "from sklearn.ensemble import RandomForestRegressor\n",
        "rfr_100 = RandomForestRegressor(max_depth= 20,n_estimators=100)\n",
        "rfr_100.fit(X_train,y_train)"
      ],
      "execution_count": 0,
      "outputs": [
        {
          "output_type": "execute_result",
          "data": {
            "text/plain": [
              "RandomForestRegressor(bootstrap=True, ccp_alpha=0.0, criterion='mse',\n",
              "                      max_depth=20, max_features='auto', max_leaf_nodes=None,\n",
              "                      max_samples=None, min_impurity_decrease=0.0,\n",
              "                      min_impurity_split=None, min_samples_leaf=1,\n",
              "                      min_samples_split=2, min_weight_fraction_leaf=0.0,\n",
              "                      n_estimators=100, n_jobs=None, oob_score=False,\n",
              "                      random_state=None, verbose=0, warm_start=False)"
            ]
          },
          "metadata": {
            "tags": []
          },
          "execution_count": 28
        }
      ]
    },
    {
      "cell_type": "code",
      "metadata": {
        "id": "1kbUcjz56Ji9",
        "colab_type": "code",
        "outputId": "5fafabde-9162-4a46-bfd4-afa4e2eb0d33",
        "colab": {
          "base_uri": "https://localhost:8080/",
          "height": 51
        }
      },
      "source": [
        "Prediction_4 = rfr_100.predict(X_test)\n",
        "Get_score(Prediction_4, y_test)"
      ],
      "execution_count": 0,
      "outputs": [
        {
          "output_type": "stream",
          "text": [
            "The Spearman's correlation coefficient is: 0.350\n",
            "The Spearman's correlation coefficient is: 0.193\n"
          ],
          "name": "stdout"
        }
      ]
    },
    {
      "cell_type": "markdown",
      "metadata": {
        "id": "GUVRlbxfCWn0",
        "colab_type": "text"
      },
      "source": [
        "**B) Semantic Feature: Only Caption using TFIDF.**"
      ]
    },
    {
      "cell_type": "markdown",
      "metadata": {
        "id": "OIU_7aaEHd9U",
        "colab_type": "text"
      },
      "source": [
        "Since **Caption with Weight** analysis done above, so not repeating same procedure again instead moving forward with few functional changes"
      ]
    },
    {
      "cell_type": "code",
      "metadata": {
        "id": "LTELHsQjILWa",
        "colab_type": "code",
        "outputId": "e80c6de6-fdd5-4f34-ad71-5d7a357fa161",
        "colab": {
          "base_uri": "https://localhost:8080/",
          "height": 51
        }
      },
      "source": [
        "import re\n",
        "import nltk \n",
        "nltk.download('stopwords') \n",
        "from nltk.corpus import stopwords\n",
        "from nltk.stem.porter import PorterStemmer\n"
      ],
      "execution_count": 0,
      "outputs": [
        {
          "output_type": "stream",
          "text": [
            "[nltk_data] Downloading package stopwords to /root/nltk_data...\n",
            "[nltk_data]   Package stopwords is already up-to-date!\n"
          ],
          "name": "stdout"
        }
      ]
    },
    {
      "cell_type": "code",
      "metadata": {
        "id": "Qq6qq3sA8KAz",
        "colab_type": "code",
        "colab": {}
      },
      "source": [
        "word_bag_1 = []\n",
        "for i in range(0, 6000):\n",
        "    video_caption = re.sub('[^a-zA-Z]', ' ', GroundTruth_Train['caption'][i])\n",
        "    video_caption = video_caption.lower() \n",
        "    video_caption = video_caption.split()\n",
        "    video_caption = [word for word in video_caption if not word in set(stopwords.words('english'))]\n",
        "    video_caption = ' '.join(video_caption)\n",
        "    word_bag_1.append(video_caption) "
      ],
      "execution_count": 0,
      "outputs": []
    },
    {
      "cell_type": "markdown",
      "metadata": {
        "id": "bKzBh0n4KSDg",
        "colab_type": "text"
      },
      "source": [
        "Defining X and Y of dataset"
      ]
    },
    {
      "cell_type": "code",
      "metadata": {
        "id": "jv31KYSSKRl2",
        "colab_type": "code",
        "colab": {}
      },
      "source": [
        "X_1 = tfidfV.fit_transform(word_bag_1).toarray()\n",
        "Y_1 = GroundTruth_Train.iloc[:, 1:3].values"
      ],
      "execution_count": 0,
      "outputs": []
    },
    {
      "cell_type": "markdown",
      "metadata": {
        "id": "6fTU2m0CLAx4",
        "colab_type": "text"
      },
      "source": [
        "Spliting data into Test and Train set"
      ]
    },
    {
      "cell_type": "code",
      "metadata": {
        "id": "79SBHUD1LExv",
        "colab_type": "code",
        "colab": {}
      },
      "source": [
        "from sklearn.model_selection import train_test_split\n",
        "X1_train, X1_test, y1_train, y1_test = train_test_split(X_1,Y_1, test_size=0.2)"
      ],
      "execution_count": 0,
      "outputs": []
    },
    {
      "cell_type": "markdown",
      "metadata": {
        "id": "Ck3oo50LLPVS",
        "colab_type": "text"
      },
      "source": [
        "**1.** LinearRegression Model."
      ]
    },
    {
      "cell_type": "code",
      "metadata": {
        "id": "dDrBdXuYLbW8",
        "colab_type": "code",
        "outputId": "cae32b60-e80b-4a59-ffc2-0d02848e5818",
        "colab": {
          "base_uri": "https://localhost:8080/",
          "height": 34
        }
      },
      "source": [
        "from sklearn.linear_model import LinearRegression\n",
        "lr_1 = LinearRegression()\n",
        "lr_1.fit(X1_train,y1_train)"
      ],
      "execution_count": 0,
      "outputs": [
        {
          "output_type": "execute_result",
          "data": {
            "text/plain": [
              "LinearRegression(copy_X=True, fit_intercept=True, n_jobs=None, normalize=False)"
            ]
          },
          "metadata": {
            "tags": []
          },
          "execution_count": 34
        }
      ]
    },
    {
      "cell_type": "code",
      "metadata": {
        "id": "m2ke3IAfMvWG",
        "colab_type": "code",
        "outputId": "3eba9f3a-0fe0-4a01-ffc7-dc305fdd48ff",
        "colab": {
          "base_uri": "https://localhost:8080/",
          "height": 34
        }
      },
      "source": [
        "X.shape"
      ],
      "execution_count": 0,
      "outputs": [
        {
          "output_type": "execute_result",
          "data": {
            "text/plain": [
              "(6000, 5088)"
            ]
          },
          "metadata": {
            "tags": []
          },
          "execution_count": 35
        }
      ]
    },
    {
      "cell_type": "code",
      "metadata": {
        "id": "nMKyjvmjMw6o",
        "colab_type": "code",
        "outputId": "e6ae78a8-9dd3-49b6-bd2d-118af160c5b8",
        "colab": {
          "base_uri": "https://localhost:8080/",
          "height": 51
        }
      },
      "source": [
        "Prediction_5 = lr_1.predict(X1_test)\n",
        "Get_score(Prediction_5, y1_test)"
      ],
      "execution_count": 0,
      "outputs": [
        {
          "output_type": "stream",
          "text": [
            "The Spearman's correlation coefficient is: 0.148\n",
            "The Spearman's correlation coefficient is: 0.036\n"
          ],
          "name": "stdout"
        }
      ]
    },
    {
      "cell_type": "markdown",
      "metadata": {
        "id": "53bV3ZENNagE",
        "colab_type": "text"
      },
      "source": [
        "**2.** Decision Tree Regressor Model"
      ]
    },
    {
      "cell_type": "code",
      "metadata": {
        "id": "tKnOd_iBNjlK",
        "colab_type": "code",
        "outputId": "d42bab54-6ea6-4693-8edf-05822ee19a95",
        "colab": {
          "base_uri": "https://localhost:8080/",
          "height": 119
        }
      },
      "source": [
        "from sklearn.tree import DecisionTreeRegressor\n",
        "dtr_1=DecisionTreeRegressor()\n",
        "dtr_1.fit(X1_train,y1_train)"
      ],
      "execution_count": 0,
      "outputs": [
        {
          "output_type": "execute_result",
          "data": {
            "text/plain": [
              "DecisionTreeRegressor(ccp_alpha=0.0, criterion='mse', max_depth=None,\n",
              "                      max_features=None, max_leaf_nodes=None,\n",
              "                      min_impurity_decrease=0.0, min_impurity_split=None,\n",
              "                      min_samples_leaf=1, min_samples_split=2,\n",
              "                      min_weight_fraction_leaf=0.0, presort='deprecated',\n",
              "                      random_state=None, splitter='best')"
            ]
          },
          "metadata": {
            "tags": []
          },
          "execution_count": 37
        }
      ]
    },
    {
      "cell_type": "code",
      "metadata": {
        "id": "3pBSNvqkN8Do",
        "colab_type": "code",
        "outputId": "82d9e8b8-f282-4337-d760-75640c4fce80",
        "colab": {
          "base_uri": "https://localhost:8080/",
          "height": 51
        }
      },
      "source": [
        "Prediction_6 = dtr_1.predict(X1_test)\n",
        "Get_score(Prediction_6, y1_test)"
      ],
      "execution_count": 0,
      "outputs": [
        {
          "output_type": "stream",
          "text": [
            "The Spearman's correlation coefficient is: 0.259\n",
            "The Spearman's correlation coefficient is: 0.127\n"
          ],
          "name": "stdout"
        }
      ]
    },
    {
      "cell_type": "markdown",
      "metadata": {
        "id": "3nD4a5HOOXiU",
        "colab_type": "text"
      },
      "source": [
        "**3.** Random Forest Regerssor Model "
      ]
    },
    {
      "cell_type": "code",
      "metadata": {
        "id": "A99YxVguOpom",
        "colab_type": "code",
        "outputId": "8e0c722c-7f64-4d4d-bf10-89d1686a1f2e",
        "colab": {
          "base_uri": "https://localhost:8080/",
          "height": 136
        }
      },
      "source": [
        "from sklearn.ensemble import RandomForestRegressor\n",
        "rfr_10_1 = RandomForestRegressor(max_depth= 20,n_estimators=10)\n",
        "rfr_10_1.fit(X1_train,y1_train)"
      ],
      "execution_count": 0,
      "outputs": [
        {
          "output_type": "execute_result",
          "data": {
            "text/plain": [
              "RandomForestRegressor(bootstrap=True, ccp_alpha=0.0, criterion='mse',\n",
              "                      max_depth=20, max_features='auto', max_leaf_nodes=None,\n",
              "                      max_samples=None, min_impurity_decrease=0.0,\n",
              "                      min_impurity_split=None, min_samples_leaf=1,\n",
              "                      min_samples_split=2, min_weight_fraction_leaf=0.0,\n",
              "                      n_estimators=10, n_jobs=None, oob_score=False,\n",
              "                      random_state=None, verbose=0, warm_start=False)"
            ]
          },
          "metadata": {
            "tags": []
          },
          "execution_count": 39
        }
      ]
    },
    {
      "cell_type": "code",
      "metadata": {
        "id": "x3owoCJZPN6c",
        "colab_type": "code",
        "outputId": "250bd852-06d8-4cc3-cb2f-4c188c061b3f",
        "colab": {
          "base_uri": "https://localhost:8080/",
          "height": 51
        }
      },
      "source": [
        "Prediction_7 = rfr_10_1.predict(X1_test)\n",
        "Get_score(Prediction_7, y1_test)"
      ],
      "execution_count": 0,
      "outputs": [
        {
          "output_type": "stream",
          "text": [
            "The Spearman's correlation coefficient is: 0.289\n",
            "The Spearman's correlation coefficient is: 0.148\n"
          ],
          "name": "stdout"
        }
      ]
    },
    {
      "cell_type": "markdown",
      "metadata": {
        "id": "SWKWEhhe44XZ",
        "colab_type": "text"
      },
      "source": [
        "Random Forest Regressor with estimator 100"
      ]
    },
    {
      "cell_type": "code",
      "metadata": {
        "id": "5AuuIigHPdY8",
        "colab_type": "code",
        "outputId": "ff22e8bc-fde9-4526-b0e4-11fcd499cae4",
        "colab": {
          "base_uri": "https://localhost:8080/",
          "height": 136
        }
      },
      "source": [
        "from sklearn.ensemble import RandomForestRegressor\n",
        "rfr_100_1 = RandomForestRegressor(max_depth= 20,n_estimators=100)\n",
        "rfr_100_1.fit(X1_train,y1_train)"
      ],
      "execution_count": 0,
      "outputs": [
        {
          "output_type": "execute_result",
          "data": {
            "text/plain": [
              "RandomForestRegressor(bootstrap=True, ccp_alpha=0.0, criterion='mse',\n",
              "                      max_depth=20, max_features='auto', max_leaf_nodes=None,\n",
              "                      max_samples=None, min_impurity_decrease=0.0,\n",
              "                      min_impurity_split=None, min_samples_leaf=1,\n",
              "                      min_samples_split=2, min_weight_fraction_leaf=0.0,\n",
              "                      n_estimators=100, n_jobs=None, oob_score=False,\n",
              "                      random_state=None, verbose=0, warm_start=False)"
            ]
          },
          "metadata": {
            "tags": []
          },
          "execution_count": 41
        }
      ]
    },
    {
      "cell_type": "code",
      "metadata": {
        "id": "YILqYRBMPjsN",
        "colab_type": "code",
        "outputId": "78042b1f-2082-4f84-b1ad-5f3b7d3d461c",
        "colab": {
          "base_uri": "https://localhost:8080/",
          "height": 51
        }
      },
      "source": [
        "Prediction_8 = rfr_100_1.predict(X1_test)\n",
        "Get_score(Prediction_8, y1_test)"
      ],
      "execution_count": 0,
      "outputs": [
        {
          "output_type": "stream",
          "text": [
            "The Spearman's correlation coefficient is: 0.325\n",
            "The Spearman's correlation coefficient is: 0.154\n"
          ],
          "name": "stdout"
        }
      ]
    },
    {
      "cell_type": "markdown",
      "metadata": {
        "id": "UB49bHE8Qekj",
        "colab_type": "text"
      },
      "source": [
        "**Conclusion**: Comparison of Spearman's correlation coffiecient scores of Caption and Caption with positive cofficency, **Weighted Captions outperformed** and much better than only Caption."
      ]
    },
    {
      "cell_type": "markdown",
      "metadata": {
        "id": "nCo8hX2agZST",
        "colab_type": "text"
      },
      "source": [
        "**C) Video Feature: HMP.**"
      ]
    },
    {
      "cell_type": "markdown",
      "metadata": {
        "id": "7fOrIn3pkxvi",
        "colab_type": "text"
      },
      "source": [
        "Using pre-defined HMP read function."
      ]
    },
    {
      "cell_type": "code",
      "metadata": {
        "id": "HKfRi10zdJBG",
        "colab_type": "code",
        "colab": {}
      },
      "source": [
        "def read_HMP(fname):\n",
        "    \"\"\"Scan HMP(Histogram of Motion Patterns) features from file\"\"\"\n",
        "    with open(fname) as f:\n",
        "        for line in f:\n",
        "            pairs=line.split()\n",
        "            HMP_temp = { int(p.split(':')[0]) : float(p.split(':')[1]) for p in pairs}\n",
        "    # there are 6075 bins, fill zeros\n",
        "    HMP = numpy.zeros(6075)\n",
        "    for idx in HMP_temp.keys():\n",
        "        HMP[idx-1] = HMP_temp[idx]            \n",
        "    return HMP"
      ],
      "execution_count": 0,
      "outputs": []
    },
    {
      "cell_type": "code",
      "metadata": {
        "id": "6TLCcaEtoeSu",
        "colab_type": "code",
        "outputId": "8aeb35b6-21e9-46ab-c99d-d1cee3ebbc69",
        "colab": {
          "base_uri": "https://localhost:8080/",
          "height": 102
        }
      },
      "source": [
        "%ls '/content/drive/My Drive/CA684_Assignment/Dev-set/'"
      ],
      "execution_count": 0,
      "outputs": [
        {
          "output_type": "stream",
          "text": [
            "\u001b[0m\u001b[01;34m'Aesthetic Features'\u001b[0m/   \u001b[01;34mHMP\u001b[0m/                                  \u001b[01;34mORB\u001b[0m/\n",
            " \u001b[01;34mC3D\u001b[0m/                   \u001b[01;34mHOG\u001b[0m/                                  README.txt\n",
            " \u001b[01;34mCaptions\u001b[0m/              \u001b[01;34mInceptionV3\u001b[0m/                          \u001b[01;34mSources\u001b[0m/\n",
            " \u001b[01;34mColorHistogram\u001b[0m/        \u001b[01;34mLBP\u001b[0m/\n",
            " \u001b[01;34mGround-truth\u001b[0m/          MemorabilityDataset2018_license.txt\n"
          ],
          "name": "stdout"
        }
      ]
    },
    {
      "cell_type": "code",
      "metadata": {
        "id": "cXPW_paHmdiD",
        "colab_type": "code",
        "colab": {}
      },
      "source": [
        "import glob as gb\n",
        "HMP_list= []\n",
        "video_list = []\n",
        "for filename in gb.glob('/content/drive/My Drive/CA684_Assignment/Dev-set/HMP/*.txt'):\n",
        "    name = ((filename.split('/')[-1]).split('.')[0])\n",
        "    video_list.append(name)\n",
        "    HMP_features = read_HMP(filename)\n",
        "    HMP_list.append(HMP_features)   "
      ],
      "execution_count": 0,
      "outputs": []
    },
    {
      "cell_type": "code",
      "metadata": {
        "id": "2DqR-YyhrhzA",
        "colab_type": "code",
        "outputId": "e13dba6d-224b-44b6-e4fc-61252033d4e2",
        "colab": {
          "base_uri": "https://localhost:8080/",
          "height": 253
        }
      },
      "source": [
        "HMP_features = pandas.DataFrame(numpy.array(HMP_list).reshape(6000,6075))\n",
        "HMP_features[\"video\"] = video_list\n",
        "HMP_features.head()"
      ],
      "execution_count": 0,
      "outputs": [
        {
          "output_type": "execute_result",
          "data": {
            "text/html": [
              "<div>\n",
              "<style scoped>\n",
              "    .dataframe tbody tr th:only-of-type {\n",
              "        vertical-align: middle;\n",
              "    }\n",
              "\n",
              "    .dataframe tbody tr th {\n",
              "        vertical-align: top;\n",
              "    }\n",
              "\n",
              "    .dataframe thead th {\n",
              "        text-align: right;\n",
              "    }\n",
              "</style>\n",
              "<table border=\"1\" class=\"dataframe\">\n",
              "  <thead>\n",
              "    <tr style=\"text-align: right;\">\n",
              "      <th></th>\n",
              "      <th>0</th>\n",
              "      <th>1</th>\n",
              "      <th>2</th>\n",
              "      <th>3</th>\n",
              "      <th>4</th>\n",
              "      <th>5</th>\n",
              "      <th>6</th>\n",
              "      <th>7</th>\n",
              "      <th>8</th>\n",
              "      <th>9</th>\n",
              "      <th>10</th>\n",
              "      <th>11</th>\n",
              "      <th>12</th>\n",
              "      <th>13</th>\n",
              "      <th>14</th>\n",
              "      <th>15</th>\n",
              "      <th>16</th>\n",
              "      <th>17</th>\n",
              "      <th>18</th>\n",
              "      <th>19</th>\n",
              "      <th>20</th>\n",
              "      <th>21</th>\n",
              "      <th>22</th>\n",
              "      <th>23</th>\n",
              "      <th>24</th>\n",
              "      <th>25</th>\n",
              "      <th>26</th>\n",
              "      <th>27</th>\n",
              "      <th>28</th>\n",
              "      <th>29</th>\n",
              "      <th>30</th>\n",
              "      <th>31</th>\n",
              "      <th>32</th>\n",
              "      <th>33</th>\n",
              "      <th>34</th>\n",
              "      <th>35</th>\n",
              "      <th>36</th>\n",
              "      <th>37</th>\n",
              "      <th>38</th>\n",
              "      <th>39</th>\n",
              "      <th>...</th>\n",
              "      <th>6036</th>\n",
              "      <th>6037</th>\n",
              "      <th>6038</th>\n",
              "      <th>6039</th>\n",
              "      <th>6040</th>\n",
              "      <th>6041</th>\n",
              "      <th>6042</th>\n",
              "      <th>6043</th>\n",
              "      <th>6044</th>\n",
              "      <th>6045</th>\n",
              "      <th>6046</th>\n",
              "      <th>6047</th>\n",
              "      <th>6048</th>\n",
              "      <th>6049</th>\n",
              "      <th>6050</th>\n",
              "      <th>6051</th>\n",
              "      <th>6052</th>\n",
              "      <th>6053</th>\n",
              "      <th>6054</th>\n",
              "      <th>6055</th>\n",
              "      <th>6056</th>\n",
              "      <th>6057</th>\n",
              "      <th>6058</th>\n",
              "      <th>6059</th>\n",
              "      <th>6060</th>\n",
              "      <th>6061</th>\n",
              "      <th>6062</th>\n",
              "      <th>6063</th>\n",
              "      <th>6064</th>\n",
              "      <th>6065</th>\n",
              "      <th>6066</th>\n",
              "      <th>6067</th>\n",
              "      <th>6068</th>\n",
              "      <th>6069</th>\n",
              "      <th>6070</th>\n",
              "      <th>6071</th>\n",
              "      <th>6072</th>\n",
              "      <th>6073</th>\n",
              "      <th>6074</th>\n",
              "      <th>video</th>\n",
              "    </tr>\n",
              "  </thead>\n",
              "  <tbody>\n",
              "    <tr>\n",
              "      <th>0</th>\n",
              "      <td>0.012099</td>\n",
              "      <td>0.001466</td>\n",
              "      <td>0.000017</td>\n",
              "      <td>0.0</td>\n",
              "      <td>0.000683</td>\n",
              "      <td>0.000007</td>\n",
              "      <td>0.0</td>\n",
              "      <td>0.000000</td>\n",
              "      <td>0.000007</td>\n",
              "      <td>0.0</td>\n",
              "      <td>0.0</td>\n",
              "      <td>0.0</td>\n",
              "      <td>0.0</td>\n",
              "      <td>0.000170</td>\n",
              "      <td>0.000002</td>\n",
              "      <td>0.0</td>\n",
              "      <td>0.000002</td>\n",
              "      <td>0.000000</td>\n",
              "      <td>0.0</td>\n",
              "      <td>0.0</td>\n",
              "      <td>0.0</td>\n",
              "      <td>0.0</td>\n",
              "      <td>0.0</td>\n",
              "      <td>0.0</td>\n",
              "      <td>0.0</td>\n",
              "      <td>0.0</td>\n",
              "      <td>0.000002</td>\n",
              "      <td>0.0</td>\n",
              "      <td>0.0</td>\n",
              "      <td>0.0</td>\n",
              "      <td>0.0</td>\n",
              "      <td>0.0</td>\n",
              "      <td>0.0</td>\n",
              "      <td>0.0</td>\n",
              "      <td>0.0</td>\n",
              "      <td>0.0</td>\n",
              "      <td>0.0</td>\n",
              "      <td>0.0</td>\n",
              "      <td>0.0</td>\n",
              "      <td>0.0</td>\n",
              "      <td>...</td>\n",
              "      <td>0.000239</td>\n",
              "      <td>0.000324</td>\n",
              "      <td>0.000151</td>\n",
              "      <td>0.000106</td>\n",
              "      <td>0.000050</td>\n",
              "      <td>0.000014</td>\n",
              "      <td>0.000156</td>\n",
              "      <td>0.000123</td>\n",
              "      <td>0.000031</td>\n",
              "      <td>0.000163</td>\n",
              "      <td>0.000177</td>\n",
              "      <td>0.000097</td>\n",
              "      <td>0.000047</td>\n",
              "      <td>0.000021</td>\n",
              "      <td>0.000002</td>\n",
              "      <td>0.000019</td>\n",
              "      <td>0.000021</td>\n",
              "      <td>0.000000</td>\n",
              "      <td>0.000002</td>\n",
              "      <td>0.000009</td>\n",
              "      <td>0.000002</td>\n",
              "      <td>0.000059</td>\n",
              "      <td>0.000024</td>\n",
              "      <td>0.000007</td>\n",
              "      <td>0.000057</td>\n",
              "      <td>0.000052</td>\n",
              "      <td>0.000012</td>\n",
              "      <td>0.000026</td>\n",
              "      <td>0.000007</td>\n",
              "      <td>0.000014</td>\n",
              "      <td>0.000057</td>\n",
              "      <td>0.000028</td>\n",
              "      <td>0.000007</td>\n",
              "      <td>0.000059</td>\n",
              "      <td>0.000097</td>\n",
              "      <td>0.000012</td>\n",
              "      <td>0.000135</td>\n",
              "      <td>0.000111</td>\n",
              "      <td>0.000076</td>\n",
              "      <td>video6634</td>\n",
              "    </tr>\n",
              "    <tr>\n",
              "      <th>1</th>\n",
              "      <td>0.078170</td>\n",
              "      <td>0.013597</td>\n",
              "      <td>0.000122</td>\n",
              "      <td>0.0</td>\n",
              "      <td>0.005590</td>\n",
              "      <td>0.000074</td>\n",
              "      <td>0.0</td>\n",
              "      <td>0.000000</td>\n",
              "      <td>0.000026</td>\n",
              "      <td>0.0</td>\n",
              "      <td>0.0</td>\n",
              "      <td>0.0</td>\n",
              "      <td>0.0</td>\n",
              "      <td>0.001137</td>\n",
              "      <td>0.000017</td>\n",
              "      <td>0.0</td>\n",
              "      <td>0.000000</td>\n",
              "      <td>0.000017</td>\n",
              "      <td>0.0</td>\n",
              "      <td>0.0</td>\n",
              "      <td>0.0</td>\n",
              "      <td>0.0</td>\n",
              "      <td>0.0</td>\n",
              "      <td>0.0</td>\n",
              "      <td>0.0</td>\n",
              "      <td>0.0</td>\n",
              "      <td>0.000000</td>\n",
              "      <td>0.0</td>\n",
              "      <td>0.0</td>\n",
              "      <td>0.0</td>\n",
              "      <td>0.0</td>\n",
              "      <td>0.0</td>\n",
              "      <td>0.0</td>\n",
              "      <td>0.0</td>\n",
              "      <td>0.0</td>\n",
              "      <td>0.0</td>\n",
              "      <td>0.0</td>\n",
              "      <td>0.0</td>\n",
              "      <td>0.0</td>\n",
              "      <td>0.0</td>\n",
              "      <td>...</td>\n",
              "      <td>0.000069</td>\n",
              "      <td>0.000091</td>\n",
              "      <td>0.000026</td>\n",
              "      <td>0.000061</td>\n",
              "      <td>0.000022</td>\n",
              "      <td>0.000004</td>\n",
              "      <td>0.000091</td>\n",
              "      <td>0.000048</td>\n",
              "      <td>0.000013</td>\n",
              "      <td>0.000043</td>\n",
              "      <td>0.000095</td>\n",
              "      <td>0.000030</td>\n",
              "      <td>0.000043</td>\n",
              "      <td>0.000013</td>\n",
              "      <td>0.000000</td>\n",
              "      <td>0.000039</td>\n",
              "      <td>0.000026</td>\n",
              "      <td>0.000000</td>\n",
              "      <td>0.000009</td>\n",
              "      <td>0.000013</td>\n",
              "      <td>0.000000</td>\n",
              "      <td>0.000069</td>\n",
              "      <td>0.000026</td>\n",
              "      <td>0.000004</td>\n",
              "      <td>0.000143</td>\n",
              "      <td>0.000139</td>\n",
              "      <td>0.000009</td>\n",
              "      <td>0.000017</td>\n",
              "      <td>0.000043</td>\n",
              "      <td>0.000022</td>\n",
              "      <td>0.000043</td>\n",
              "      <td>0.000026</td>\n",
              "      <td>0.000004</td>\n",
              "      <td>0.000078</td>\n",
              "      <td>0.000074</td>\n",
              "      <td>0.000022</td>\n",
              "      <td>0.000052</td>\n",
              "      <td>0.000082</td>\n",
              "      <td>0.000061</td>\n",
              "      <td>video6633</td>\n",
              "    </tr>\n",
              "    <tr>\n",
              "      <th>2</th>\n",
              "      <td>0.112506</td>\n",
              "      <td>0.014053</td>\n",
              "      <td>0.000263</td>\n",
              "      <td>0.0</td>\n",
              "      <td>0.043205</td>\n",
              "      <td>0.000560</td>\n",
              "      <td>0.0</td>\n",
              "      <td>0.000005</td>\n",
              "      <td>0.000364</td>\n",
              "      <td>0.0</td>\n",
              "      <td>0.0</td>\n",
              "      <td>0.0</td>\n",
              "      <td>0.0</td>\n",
              "      <td>0.002472</td>\n",
              "      <td>0.000206</td>\n",
              "      <td>0.0</td>\n",
              "      <td>0.000002</td>\n",
              "      <td>0.000064</td>\n",
              "      <td>0.0</td>\n",
              "      <td>0.0</td>\n",
              "      <td>0.0</td>\n",
              "      <td>0.0</td>\n",
              "      <td>0.0</td>\n",
              "      <td>0.0</td>\n",
              "      <td>0.0</td>\n",
              "      <td>0.0</td>\n",
              "      <td>0.000000</td>\n",
              "      <td>0.0</td>\n",
              "      <td>0.0</td>\n",
              "      <td>0.0</td>\n",
              "      <td>0.0</td>\n",
              "      <td>0.0</td>\n",
              "      <td>0.0</td>\n",
              "      <td>0.0</td>\n",
              "      <td>0.0</td>\n",
              "      <td>0.0</td>\n",
              "      <td>0.0</td>\n",
              "      <td>0.0</td>\n",
              "      <td>0.0</td>\n",
              "      <td>0.0</td>\n",
              "      <td>...</td>\n",
              "      <td>0.000310</td>\n",
              "      <td>0.000629</td>\n",
              "      <td>0.000263</td>\n",
              "      <td>0.000145</td>\n",
              "      <td>0.000061</td>\n",
              "      <td>0.000002</td>\n",
              "      <td>0.000098</td>\n",
              "      <td>0.000248</td>\n",
              "      <td>0.000007</td>\n",
              "      <td>0.000125</td>\n",
              "      <td>0.000354</td>\n",
              "      <td>0.000076</td>\n",
              "      <td>0.000135</td>\n",
              "      <td>0.000049</td>\n",
              "      <td>0.000000</td>\n",
              "      <td>0.000074</td>\n",
              "      <td>0.000103</td>\n",
              "      <td>0.000000</td>\n",
              "      <td>0.000012</td>\n",
              "      <td>0.000039</td>\n",
              "      <td>0.000002</td>\n",
              "      <td>0.000066</td>\n",
              "      <td>0.000012</td>\n",
              "      <td>0.000002</td>\n",
              "      <td>0.000098</td>\n",
              "      <td>0.000221</td>\n",
              "      <td>0.000012</td>\n",
              "      <td>0.000029</td>\n",
              "      <td>0.000076</td>\n",
              "      <td>0.000022</td>\n",
              "      <td>0.000261</td>\n",
              "      <td>0.000069</td>\n",
              "      <td>0.000000</td>\n",
              "      <td>0.000157</td>\n",
              "      <td>0.000558</td>\n",
              "      <td>0.000017</td>\n",
              "      <td>0.000285</td>\n",
              "      <td>0.000504</td>\n",
              "      <td>0.000179</td>\n",
              "      <td>video6639</td>\n",
              "    </tr>\n",
              "    <tr>\n",
              "      <th>3</th>\n",
              "      <td>0.066072</td>\n",
              "      <td>0.012682</td>\n",
              "      <td>0.000283</td>\n",
              "      <td>0.0</td>\n",
              "      <td>0.006425</td>\n",
              "      <td>0.000375</td>\n",
              "      <td>0.0</td>\n",
              "      <td>0.000002</td>\n",
              "      <td>0.000174</td>\n",
              "      <td>0.0</td>\n",
              "      <td>0.0</td>\n",
              "      <td>0.0</td>\n",
              "      <td>0.0</td>\n",
              "      <td>0.002373</td>\n",
              "      <td>0.000152</td>\n",
              "      <td>0.0</td>\n",
              "      <td>0.000002</td>\n",
              "      <td>0.000102</td>\n",
              "      <td>0.0</td>\n",
              "      <td>0.0</td>\n",
              "      <td>0.0</td>\n",
              "      <td>0.0</td>\n",
              "      <td>0.0</td>\n",
              "      <td>0.0</td>\n",
              "      <td>0.0</td>\n",
              "      <td>0.0</td>\n",
              "      <td>0.000020</td>\n",
              "      <td>0.0</td>\n",
              "      <td>0.0</td>\n",
              "      <td>0.0</td>\n",
              "      <td>0.0</td>\n",
              "      <td>0.0</td>\n",
              "      <td>0.0</td>\n",
              "      <td>0.0</td>\n",
              "      <td>0.0</td>\n",
              "      <td>0.0</td>\n",
              "      <td>0.0</td>\n",
              "      <td>0.0</td>\n",
              "      <td>0.0</td>\n",
              "      <td>0.0</td>\n",
              "      <td>...</td>\n",
              "      <td>0.000278</td>\n",
              "      <td>0.000744</td>\n",
              "      <td>0.000484</td>\n",
              "      <td>0.000155</td>\n",
              "      <td>0.000077</td>\n",
              "      <td>0.000000</td>\n",
              "      <td>0.000161</td>\n",
              "      <td>0.000563</td>\n",
              "      <td>0.000084</td>\n",
              "      <td>0.000132</td>\n",
              "      <td>0.000375</td>\n",
              "      <td>0.000358</td>\n",
              "      <td>0.000227</td>\n",
              "      <td>0.000075</td>\n",
              "      <td>0.000002</td>\n",
              "      <td>0.000077</td>\n",
              "      <td>0.000135</td>\n",
              "      <td>0.000007</td>\n",
              "      <td>0.000009</td>\n",
              "      <td>0.000011</td>\n",
              "      <td>0.000007</td>\n",
              "      <td>0.000190</td>\n",
              "      <td>0.000049</td>\n",
              "      <td>0.000004</td>\n",
              "      <td>0.000305</td>\n",
              "      <td>0.001002</td>\n",
              "      <td>0.000099</td>\n",
              "      <td>0.000038</td>\n",
              "      <td>0.000106</td>\n",
              "      <td>0.000075</td>\n",
              "      <td>0.000495</td>\n",
              "      <td>0.000210</td>\n",
              "      <td>0.000002</td>\n",
              "      <td>0.000342</td>\n",
              "      <td>0.002027</td>\n",
              "      <td>0.000124</td>\n",
              "      <td>0.000307</td>\n",
              "      <td>0.001239</td>\n",
              "      <td>0.001047</td>\n",
              "      <td>video6635</td>\n",
              "    </tr>\n",
              "    <tr>\n",
              "      <th>4</th>\n",
              "      <td>0.030360</td>\n",
              "      <td>0.005834</td>\n",
              "      <td>0.000169</td>\n",
              "      <td>0.0</td>\n",
              "      <td>0.006578</td>\n",
              "      <td>0.000542</td>\n",
              "      <td>0.0</td>\n",
              "      <td>0.000016</td>\n",
              "      <td>0.000373</td>\n",
              "      <td>0.0</td>\n",
              "      <td>0.0</td>\n",
              "      <td>0.0</td>\n",
              "      <td>0.0</td>\n",
              "      <td>0.001041</td>\n",
              "      <td>0.000113</td>\n",
              "      <td>0.0</td>\n",
              "      <td>0.000007</td>\n",
              "      <td>0.000102</td>\n",
              "      <td>0.0</td>\n",
              "      <td>0.0</td>\n",
              "      <td>0.0</td>\n",
              "      <td>0.0</td>\n",
              "      <td>0.0</td>\n",
              "      <td>0.0</td>\n",
              "      <td>0.0</td>\n",
              "      <td>0.0</td>\n",
              "      <td>0.000009</td>\n",
              "      <td>0.0</td>\n",
              "      <td>0.0</td>\n",
              "      <td>0.0</td>\n",
              "      <td>0.0</td>\n",
              "      <td>0.0</td>\n",
              "      <td>0.0</td>\n",
              "      <td>0.0</td>\n",
              "      <td>0.0</td>\n",
              "      <td>0.0</td>\n",
              "      <td>0.0</td>\n",
              "      <td>0.0</td>\n",
              "      <td>0.0</td>\n",
              "      <td>0.0</td>\n",
              "      <td>...</td>\n",
              "      <td>0.000696</td>\n",
              "      <td>0.001019</td>\n",
              "      <td>0.000197</td>\n",
              "      <td>0.000239</td>\n",
              "      <td>0.000111</td>\n",
              "      <td>0.000011</td>\n",
              "      <td>0.000298</td>\n",
              "      <td>0.000389</td>\n",
              "      <td>0.000056</td>\n",
              "      <td>0.000291</td>\n",
              "      <td>0.000395</td>\n",
              "      <td>0.000090</td>\n",
              "      <td>0.000115</td>\n",
              "      <td>0.000052</td>\n",
              "      <td>0.000002</td>\n",
              "      <td>0.000054</td>\n",
              "      <td>0.000070</td>\n",
              "      <td>0.000007</td>\n",
              "      <td>0.000014</td>\n",
              "      <td>0.000041</td>\n",
              "      <td>0.000011</td>\n",
              "      <td>0.000124</td>\n",
              "      <td>0.000045</td>\n",
              "      <td>0.000005</td>\n",
              "      <td>0.000176</td>\n",
              "      <td>0.000181</td>\n",
              "      <td>0.000029</td>\n",
              "      <td>0.000052</td>\n",
              "      <td>0.000090</td>\n",
              "      <td>0.000027</td>\n",
              "      <td>0.000199</td>\n",
              "      <td>0.000061</td>\n",
              "      <td>0.000002</td>\n",
              "      <td>0.000228</td>\n",
              "      <td>0.000253</td>\n",
              "      <td>0.000023</td>\n",
              "      <td>0.000359</td>\n",
              "      <td>0.000375</td>\n",
              "      <td>0.000088</td>\n",
              "      <td>video6637</td>\n",
              "    </tr>\n",
              "  </tbody>\n",
              "</table>\n",
              "<p>5 rows × 6076 columns</p>\n",
              "</div>"
            ],
            "text/plain": [
              "          0         1         2    3  ...      6072      6073      6074      video\n",
              "0  0.012099  0.001466  0.000017  0.0  ...  0.000135  0.000111  0.000076  video6634\n",
              "1  0.078170  0.013597  0.000122  0.0  ...  0.000052  0.000082  0.000061  video6633\n",
              "2  0.112506  0.014053  0.000263  0.0  ...  0.000285  0.000504  0.000179  video6639\n",
              "3  0.066072  0.012682  0.000283  0.0  ...  0.000307  0.001239  0.001047  video6635\n",
              "4  0.030360  0.005834  0.000169  0.0  ...  0.000359  0.000375  0.000088  video6637\n",
              "\n",
              "[5 rows x 6076 columns]"
            ]
          },
          "metadata": {
            "tags": []
          },
          "execution_count": 48
        }
      ]
    },
    {
      "cell_type": "markdown",
      "metadata": {
        "id": "5EUmS47-0W1p",
        "colab_type": "text"
      },
      "source": [
        "\n",
        "* Since Ground truth has been already loaded and cleaned into notebook, so avoiding the repetition of same steps of Ground Truth Data. \n",
        "\n",
        "* Now concating Ground Truth and HMP into one DataFrame on Video Feature."
      ]
    },
    {
      "cell_type": "code",
      "metadata": {
        "id": "NBRvyqQV0poG",
        "colab_type": "code",
        "outputId": "48586266-4534-4cd5-af81-38360eaae137",
        "colab": {
          "base_uri": "https://localhost:8080/",
          "height": 270
        }
      },
      "source": [
        "HMP_GroundTruth = pandas.merge(GroundTruth_Train,HMP_features, on ='video')\n",
        "HMP_GroundTruth = HMP_GroundTruth.drop(['caption'],axis=1)\n",
        "HMP_GroundTruth.head()"
      ],
      "execution_count": 0,
      "outputs": [
        {
          "output_type": "execute_result",
          "data": {
            "text/html": [
              "<div>\n",
              "<style scoped>\n",
              "    .dataframe tbody tr th:only-of-type {\n",
              "        vertical-align: middle;\n",
              "    }\n",
              "\n",
              "    .dataframe tbody tr th {\n",
              "        vertical-align: top;\n",
              "    }\n",
              "\n",
              "    .dataframe thead th {\n",
              "        text-align: right;\n",
              "    }\n",
              "</style>\n",
              "<table border=\"1\" class=\"dataframe\">\n",
              "  <thead>\n",
              "    <tr style=\"text-align: right;\">\n",
              "      <th></th>\n",
              "      <th>video</th>\n",
              "      <th>short-term_memorability</th>\n",
              "      <th>long-term_memorability</th>\n",
              "      <th>0</th>\n",
              "      <th>1</th>\n",
              "      <th>2</th>\n",
              "      <th>3</th>\n",
              "      <th>4</th>\n",
              "      <th>5</th>\n",
              "      <th>6</th>\n",
              "      <th>7</th>\n",
              "      <th>8</th>\n",
              "      <th>9</th>\n",
              "      <th>10</th>\n",
              "      <th>11</th>\n",
              "      <th>12</th>\n",
              "      <th>13</th>\n",
              "      <th>14</th>\n",
              "      <th>15</th>\n",
              "      <th>16</th>\n",
              "      <th>17</th>\n",
              "      <th>18</th>\n",
              "      <th>19</th>\n",
              "      <th>20</th>\n",
              "      <th>21</th>\n",
              "      <th>22</th>\n",
              "      <th>23</th>\n",
              "      <th>24</th>\n",
              "      <th>25</th>\n",
              "      <th>26</th>\n",
              "      <th>27</th>\n",
              "      <th>28</th>\n",
              "      <th>29</th>\n",
              "      <th>30</th>\n",
              "      <th>31</th>\n",
              "      <th>32</th>\n",
              "      <th>33</th>\n",
              "      <th>34</th>\n",
              "      <th>35</th>\n",
              "      <th>36</th>\n",
              "      <th>...</th>\n",
              "      <th>6035</th>\n",
              "      <th>6036</th>\n",
              "      <th>6037</th>\n",
              "      <th>6038</th>\n",
              "      <th>6039</th>\n",
              "      <th>6040</th>\n",
              "      <th>6041</th>\n",
              "      <th>6042</th>\n",
              "      <th>6043</th>\n",
              "      <th>6044</th>\n",
              "      <th>6045</th>\n",
              "      <th>6046</th>\n",
              "      <th>6047</th>\n",
              "      <th>6048</th>\n",
              "      <th>6049</th>\n",
              "      <th>6050</th>\n",
              "      <th>6051</th>\n",
              "      <th>6052</th>\n",
              "      <th>6053</th>\n",
              "      <th>6054</th>\n",
              "      <th>6055</th>\n",
              "      <th>6056</th>\n",
              "      <th>6057</th>\n",
              "      <th>6058</th>\n",
              "      <th>6059</th>\n",
              "      <th>6060</th>\n",
              "      <th>6061</th>\n",
              "      <th>6062</th>\n",
              "      <th>6063</th>\n",
              "      <th>6064</th>\n",
              "      <th>6065</th>\n",
              "      <th>6066</th>\n",
              "      <th>6067</th>\n",
              "      <th>6068</th>\n",
              "      <th>6069</th>\n",
              "      <th>6070</th>\n",
              "      <th>6071</th>\n",
              "      <th>6072</th>\n",
              "      <th>6073</th>\n",
              "      <th>6074</th>\n",
              "    </tr>\n",
              "  </thead>\n",
              "  <tbody>\n",
              "    <tr>\n",
              "      <th>0</th>\n",
              "      <td>video3</td>\n",
              "      <td>0.924</td>\n",
              "      <td>0.846</td>\n",
              "      <td>0.125563</td>\n",
              "      <td>0.024036</td>\n",
              "      <td>0.000314</td>\n",
              "      <td>0.0</td>\n",
              "      <td>0.015864</td>\n",
              "      <td>0.000358</td>\n",
              "      <td>0.0</td>\n",
              "      <td>0.000000</td>\n",
              "      <td>0.000086</td>\n",
              "      <td>0.0</td>\n",
              "      <td>0.0</td>\n",
              "      <td>0.0</td>\n",
              "      <td>0.0</td>\n",
              "      <td>0.002795</td>\n",
              "      <td>0.000054</td>\n",
              "      <td>0.0</td>\n",
              "      <td>0.000000</td>\n",
              "      <td>0.000037</td>\n",
              "      <td>0.0</td>\n",
              "      <td>0.0</td>\n",
              "      <td>0.0</td>\n",
              "      <td>0.0</td>\n",
              "      <td>0.0</td>\n",
              "      <td>0.0</td>\n",
              "      <td>0.0</td>\n",
              "      <td>0.0</td>\n",
              "      <td>0.000005</td>\n",
              "      <td>0.0</td>\n",
              "      <td>0.0</td>\n",
              "      <td>0.0</td>\n",
              "      <td>0.0</td>\n",
              "      <td>0.0</td>\n",
              "      <td>0.0</td>\n",
              "      <td>0.0</td>\n",
              "      <td>0.0</td>\n",
              "      <td>0.0</td>\n",
              "      <td>0.0</td>\n",
              "      <td>...</td>\n",
              "      <td>0.000002</td>\n",
              "      <td>0.000173</td>\n",
              "      <td>0.000459</td>\n",
              "      <td>0.000000</td>\n",
              "      <td>0.000148</td>\n",
              "      <td>0.000104</td>\n",
              "      <td>0.000000</td>\n",
              "      <td>0.000121</td>\n",
              "      <td>0.000551</td>\n",
              "      <td>0.000000</td>\n",
              "      <td>0.000114</td>\n",
              "      <td>0.000884</td>\n",
              "      <td>0.000002</td>\n",
              "      <td>0.000116</td>\n",
              "      <td>0.000077</td>\n",
              "      <td>0.000002</td>\n",
              "      <td>0.000027</td>\n",
              "      <td>0.000136</td>\n",
              "      <td>0.000000</td>\n",
              "      <td>0.000000</td>\n",
              "      <td>0.000002</td>\n",
              "      <td>0.000000</td>\n",
              "      <td>0.000091</td>\n",
              "      <td>0.000035</td>\n",
              "      <td>0.000000</td>\n",
              "      <td>0.000163</td>\n",
              "      <td>0.000467</td>\n",
              "      <td>0.000002</td>\n",
              "      <td>0.000010</td>\n",
              "      <td>0.000017</td>\n",
              "      <td>0.000000</td>\n",
              "      <td>0.000393</td>\n",
              "      <td>0.000279</td>\n",
              "      <td>0.000000</td>\n",
              "      <td>0.000289</td>\n",
              "      <td>0.001926</td>\n",
              "      <td>0.000000</td>\n",
              "      <td>0.000086</td>\n",
              "      <td>0.000580</td>\n",
              "      <td>0.000000</td>\n",
              "    </tr>\n",
              "    <tr>\n",
              "      <th>1</th>\n",
              "      <td>video4</td>\n",
              "      <td>0.923</td>\n",
              "      <td>0.667</td>\n",
              "      <td>0.007526</td>\n",
              "      <td>0.001421</td>\n",
              "      <td>0.000068</td>\n",
              "      <td>0.0</td>\n",
              "      <td>0.001184</td>\n",
              "      <td>0.000143</td>\n",
              "      <td>0.0</td>\n",
              "      <td>0.000000</td>\n",
              "      <td>0.000079</td>\n",
              "      <td>0.0</td>\n",
              "      <td>0.0</td>\n",
              "      <td>0.0</td>\n",
              "      <td>0.0</td>\n",
              "      <td>0.000246</td>\n",
              "      <td>0.000024</td>\n",
              "      <td>0.0</td>\n",
              "      <td>0.000000</td>\n",
              "      <td>0.000042</td>\n",
              "      <td>0.0</td>\n",
              "      <td>0.0</td>\n",
              "      <td>0.0</td>\n",
              "      <td>0.0</td>\n",
              "      <td>0.0</td>\n",
              "      <td>0.0</td>\n",
              "      <td>0.0</td>\n",
              "      <td>0.0</td>\n",
              "      <td>0.000004</td>\n",
              "      <td>0.0</td>\n",
              "      <td>0.0</td>\n",
              "      <td>0.0</td>\n",
              "      <td>0.0</td>\n",
              "      <td>0.0</td>\n",
              "      <td>0.0</td>\n",
              "      <td>0.0</td>\n",
              "      <td>0.0</td>\n",
              "      <td>0.0</td>\n",
              "      <td>0.0</td>\n",
              "      <td>...</td>\n",
              "      <td>0.000685</td>\n",
              "      <td>0.000308</td>\n",
              "      <td>0.001054</td>\n",
              "      <td>0.000751</td>\n",
              "      <td>0.000176</td>\n",
              "      <td>0.000062</td>\n",
              "      <td>0.000000</td>\n",
              "      <td>0.000123</td>\n",
              "      <td>0.000398</td>\n",
              "      <td>0.000086</td>\n",
              "      <td>0.000246</td>\n",
              "      <td>0.000433</td>\n",
              "      <td>0.000446</td>\n",
              "      <td>0.000143</td>\n",
              "      <td>0.000053</td>\n",
              "      <td>0.000000</td>\n",
              "      <td>0.000053</td>\n",
              "      <td>0.000099</td>\n",
              "      <td>0.000009</td>\n",
              "      <td>0.000004</td>\n",
              "      <td>0.000033</td>\n",
              "      <td>0.000004</td>\n",
              "      <td>0.000051</td>\n",
              "      <td>0.000035</td>\n",
              "      <td>0.000000</td>\n",
              "      <td>0.000062</td>\n",
              "      <td>0.000358</td>\n",
              "      <td>0.000035</td>\n",
              "      <td>0.000024</td>\n",
              "      <td>0.000083</td>\n",
              "      <td>0.000053</td>\n",
              "      <td>0.000244</td>\n",
              "      <td>0.000066</td>\n",
              "      <td>0.000000</td>\n",
              "      <td>0.000081</td>\n",
              "      <td>0.000617</td>\n",
              "      <td>0.000094</td>\n",
              "      <td>0.000220</td>\n",
              "      <td>0.000762</td>\n",
              "      <td>0.001224</td>\n",
              "    </tr>\n",
              "    <tr>\n",
              "      <th>2</th>\n",
              "      <td>video6</td>\n",
              "      <td>0.863</td>\n",
              "      <td>0.700</td>\n",
              "      <td>0.109584</td>\n",
              "      <td>0.018978</td>\n",
              "      <td>0.000289</td>\n",
              "      <td>0.0</td>\n",
              "      <td>0.008774</td>\n",
              "      <td>0.000208</td>\n",
              "      <td>0.0</td>\n",
              "      <td>0.000002</td>\n",
              "      <td>0.000088</td>\n",
              "      <td>0.0</td>\n",
              "      <td>0.0</td>\n",
              "      <td>0.0</td>\n",
              "      <td>0.0</td>\n",
              "      <td>0.002046</td>\n",
              "      <td>0.000061</td>\n",
              "      <td>0.0</td>\n",
              "      <td>0.000000</td>\n",
              "      <td>0.000038</td>\n",
              "      <td>0.0</td>\n",
              "      <td>0.0</td>\n",
              "      <td>0.0</td>\n",
              "      <td>0.0</td>\n",
              "      <td>0.0</td>\n",
              "      <td>0.0</td>\n",
              "      <td>0.0</td>\n",
              "      <td>0.0</td>\n",
              "      <td>0.000002</td>\n",
              "      <td>0.0</td>\n",
              "      <td>0.0</td>\n",
              "      <td>0.0</td>\n",
              "      <td>0.0</td>\n",
              "      <td>0.0</td>\n",
              "      <td>0.0</td>\n",
              "      <td>0.0</td>\n",
              "      <td>0.0</td>\n",
              "      <td>0.0</td>\n",
              "      <td>0.0</td>\n",
              "      <td>...</td>\n",
              "      <td>0.000083</td>\n",
              "      <td>0.000057</td>\n",
              "      <td>0.000158</td>\n",
              "      <td>0.000073</td>\n",
              "      <td>0.000021</td>\n",
              "      <td>0.000009</td>\n",
              "      <td>0.000002</td>\n",
              "      <td>0.000019</td>\n",
              "      <td>0.000095</td>\n",
              "      <td>0.000021</td>\n",
              "      <td>0.000019</td>\n",
              "      <td>0.000090</td>\n",
              "      <td>0.000073</td>\n",
              "      <td>0.000050</td>\n",
              "      <td>0.000024</td>\n",
              "      <td>0.000000</td>\n",
              "      <td>0.000012</td>\n",
              "      <td>0.000021</td>\n",
              "      <td>0.000000</td>\n",
              "      <td>0.000000</td>\n",
              "      <td>0.000002</td>\n",
              "      <td>0.000000</td>\n",
              "      <td>0.000017</td>\n",
              "      <td>0.000007</td>\n",
              "      <td>0.000002</td>\n",
              "      <td>0.000066</td>\n",
              "      <td>0.000203</td>\n",
              "      <td>0.000026</td>\n",
              "      <td>0.000002</td>\n",
              "      <td>0.000040</td>\n",
              "      <td>0.000007</td>\n",
              "      <td>0.000054</td>\n",
              "      <td>0.000045</td>\n",
              "      <td>0.000000</td>\n",
              "      <td>0.000028</td>\n",
              "      <td>0.000291</td>\n",
              "      <td>0.000033</td>\n",
              "      <td>0.000052</td>\n",
              "      <td>0.000258</td>\n",
              "      <td>0.000215</td>\n",
              "    </tr>\n",
              "    <tr>\n",
              "      <th>3</th>\n",
              "      <td>video8</td>\n",
              "      <td>0.922</td>\n",
              "      <td>0.818</td>\n",
              "      <td>0.120431</td>\n",
              "      <td>0.013561</td>\n",
              "      <td>0.000277</td>\n",
              "      <td>0.0</td>\n",
              "      <td>0.018974</td>\n",
              "      <td>0.000913</td>\n",
              "      <td>0.0</td>\n",
              "      <td>0.000024</td>\n",
              "      <td>0.000713</td>\n",
              "      <td>0.0</td>\n",
              "      <td>0.0</td>\n",
              "      <td>0.0</td>\n",
              "      <td>0.0</td>\n",
              "      <td>0.002496</td>\n",
              "      <td>0.000149</td>\n",
              "      <td>0.0</td>\n",
              "      <td>0.000011</td>\n",
              "      <td>0.000157</td>\n",
              "      <td>0.0</td>\n",
              "      <td>0.0</td>\n",
              "      <td>0.0</td>\n",
              "      <td>0.0</td>\n",
              "      <td>0.0</td>\n",
              "      <td>0.0</td>\n",
              "      <td>0.0</td>\n",
              "      <td>0.0</td>\n",
              "      <td>0.000005</td>\n",
              "      <td>0.0</td>\n",
              "      <td>0.0</td>\n",
              "      <td>0.0</td>\n",
              "      <td>0.0</td>\n",
              "      <td>0.0</td>\n",
              "      <td>0.0</td>\n",
              "      <td>0.0</td>\n",
              "      <td>0.0</td>\n",
              "      <td>0.0</td>\n",
              "      <td>0.0</td>\n",
              "      <td>...</td>\n",
              "      <td>0.000210</td>\n",
              "      <td>0.000434</td>\n",
              "      <td>0.000543</td>\n",
              "      <td>0.000412</td>\n",
              "      <td>0.000412</td>\n",
              "      <td>0.000045</td>\n",
              "      <td>0.000003</td>\n",
              "      <td>0.000144</td>\n",
              "      <td>0.000282</td>\n",
              "      <td>0.000037</td>\n",
              "      <td>0.000197</td>\n",
              "      <td>0.000218</td>\n",
              "      <td>0.000157</td>\n",
              "      <td>0.000237</td>\n",
              "      <td>0.000021</td>\n",
              "      <td>0.000000</td>\n",
              "      <td>0.000040</td>\n",
              "      <td>0.000056</td>\n",
              "      <td>0.000008</td>\n",
              "      <td>0.000005</td>\n",
              "      <td>0.000013</td>\n",
              "      <td>0.000019</td>\n",
              "      <td>0.000168</td>\n",
              "      <td>0.000013</td>\n",
              "      <td>0.000000</td>\n",
              "      <td>0.000133</td>\n",
              "      <td>0.000202</td>\n",
              "      <td>0.000029</td>\n",
              "      <td>0.000029</td>\n",
              "      <td>0.000035</td>\n",
              "      <td>0.000059</td>\n",
              "      <td>0.001110</td>\n",
              "      <td>0.000075</td>\n",
              "      <td>0.000008</td>\n",
              "      <td>0.000333</td>\n",
              "      <td>0.000793</td>\n",
              "      <td>0.000101</td>\n",
              "      <td>0.000588</td>\n",
              "      <td>0.000503</td>\n",
              "      <td>0.000452</td>\n",
              "    </tr>\n",
              "    <tr>\n",
              "      <th>4</th>\n",
              "      <td>video10</td>\n",
              "      <td>0.950</td>\n",
              "      <td>0.900</td>\n",
              "      <td>0.005026</td>\n",
              "      <td>0.001356</td>\n",
              "      <td>0.000055</td>\n",
              "      <td>0.0</td>\n",
              "      <td>0.000665</td>\n",
              "      <td>0.000029</td>\n",
              "      <td>0.0</td>\n",
              "      <td>0.000000</td>\n",
              "      <td>0.000024</td>\n",
              "      <td>0.0</td>\n",
              "      <td>0.0</td>\n",
              "      <td>0.0</td>\n",
              "      <td>0.0</td>\n",
              "      <td>0.000147</td>\n",
              "      <td>0.000020</td>\n",
              "      <td>0.0</td>\n",
              "      <td>0.000000</td>\n",
              "      <td>0.000000</td>\n",
              "      <td>0.0</td>\n",
              "      <td>0.0</td>\n",
              "      <td>0.0</td>\n",
              "      <td>0.0</td>\n",
              "      <td>0.0</td>\n",
              "      <td>0.0</td>\n",
              "      <td>0.0</td>\n",
              "      <td>0.0</td>\n",
              "      <td>0.000000</td>\n",
              "      <td>0.0</td>\n",
              "      <td>0.0</td>\n",
              "      <td>0.0</td>\n",
              "      <td>0.0</td>\n",
              "      <td>0.0</td>\n",
              "      <td>0.0</td>\n",
              "      <td>0.0</td>\n",
              "      <td>0.0</td>\n",
              "      <td>0.0</td>\n",
              "      <td>0.0</td>\n",
              "      <td>...</td>\n",
              "      <td>0.000160</td>\n",
              "      <td>0.000996</td>\n",
              "      <td>0.001604</td>\n",
              "      <td>0.000103</td>\n",
              "      <td>0.000768</td>\n",
              "      <td>0.000215</td>\n",
              "      <td>0.000009</td>\n",
              "      <td>0.000415</td>\n",
              "      <td>0.000926</td>\n",
              "      <td>0.000020</td>\n",
              "      <td>0.000538</td>\n",
              "      <td>0.001178</td>\n",
              "      <td>0.000050</td>\n",
              "      <td>0.000518</td>\n",
              "      <td>0.000169</td>\n",
              "      <td>0.000007</td>\n",
              "      <td>0.000134</td>\n",
              "      <td>0.000169</td>\n",
              "      <td>0.000007</td>\n",
              "      <td>0.000026</td>\n",
              "      <td>0.000046</td>\n",
              "      <td>0.000007</td>\n",
              "      <td>0.000373</td>\n",
              "      <td>0.000088</td>\n",
              "      <td>0.000000</td>\n",
              "      <td>0.000338</td>\n",
              "      <td>0.000441</td>\n",
              "      <td>0.000029</td>\n",
              "      <td>0.000070</td>\n",
              "      <td>0.000149</td>\n",
              "      <td>0.000009</td>\n",
              "      <td>0.000882</td>\n",
              "      <td>0.000200</td>\n",
              "      <td>0.000009</td>\n",
              "      <td>0.000559</td>\n",
              "      <td>0.001097</td>\n",
              "      <td>0.000018</td>\n",
              "      <td>0.000632</td>\n",
              "      <td>0.001128</td>\n",
              "      <td>0.000064</td>\n",
              "    </tr>\n",
              "  </tbody>\n",
              "</table>\n",
              "<p>5 rows × 6078 columns</p>\n",
              "</div>"
            ],
            "text/plain": [
              "     video  short-term_memorability  ...      6073      6074\n",
              "0   video3                    0.924  ...  0.000580  0.000000\n",
              "1   video4                    0.923  ...  0.000762  0.001224\n",
              "2   video6                    0.863  ...  0.000258  0.000215\n",
              "3   video8                    0.922  ...  0.000503  0.000452\n",
              "4  video10                    0.950  ...  0.001128  0.000064\n",
              "\n",
              "[5 rows x 6078 columns]"
            ]
          },
          "metadata": {
            "tags": []
          },
          "execution_count": 49
        }
      ]
    },
    {
      "cell_type": "markdown",
      "metadata": {
        "id": "rxPJKoqr2Gzk",
        "colab_type": "text"
      },
      "source": [
        "Creating X and Y variable to pass in Train and Test Dataset."
      ]
    },
    {
      "cell_type": "code",
      "metadata": {
        "id": "1BMRBKVn1-RI",
        "colab_type": "code",
        "colab": {}
      },
      "source": [
        "X_HMP = HMP_GroundTruth.iloc[:,3:6078].values\n",
        "Y_HMP = HMP_GroundTruth.iloc[:,1:3].values"
      ],
      "execution_count": 0,
      "outputs": []
    },
    {
      "cell_type": "markdown",
      "metadata": {
        "id": "yzLHj9cb3OFD",
        "colab_type": "text"
      },
      "source": [
        "Splitting Data in Train and Test"
      ]
    },
    {
      "cell_type": "code",
      "metadata": {
        "id": "sNFiNOFV26Cg",
        "colab_type": "code",
        "colab": {}
      },
      "source": [
        "X2_train, X2_test, y2_train, y2_test = train_test_split(X_HMP,Y_HMP, test_size=0.2)"
      ],
      "execution_count": 0,
      "outputs": []
    },
    {
      "cell_type": "markdown",
      "metadata": {
        "id": "PlwKDHjS3Tfv",
        "colab_type": "text"
      },
      "source": [
        "**1.** LinearRegression Model."
      ]
    },
    {
      "cell_type": "code",
      "metadata": {
        "id": "3M_Nx6z43S__",
        "colab_type": "code",
        "outputId": "f5cf08af-6c1c-4207-c304-30198ef85ff4",
        "colab": {
          "base_uri": "https://localhost:8080/",
          "height": 34
        }
      },
      "source": [
        "from sklearn.linear_model import LinearRegression\n",
        "lr_2 = LinearRegression()\n",
        "lr_2.fit(X2_train,y2_train)"
      ],
      "execution_count": 0,
      "outputs": [
        {
          "output_type": "execute_result",
          "data": {
            "text/plain": [
              "LinearRegression(copy_X=True, fit_intercept=True, n_jobs=None, normalize=False)"
            ]
          },
          "metadata": {
            "tags": []
          },
          "execution_count": 52
        }
      ]
    },
    {
      "cell_type": "code",
      "metadata": {
        "id": "dyRpQuvQ3171",
        "colab_type": "code",
        "outputId": "9e871111-fee9-42b1-fbeb-3dab78807efb",
        "colab": {
          "base_uri": "https://localhost:8080/",
          "height": 51
        }
      },
      "source": [
        "Prediction_9 = lr_2.predict(X2_test)\n",
        "Get_score(Prediction_9, y2_test)"
      ],
      "execution_count": 0,
      "outputs": [
        {
          "output_type": "stream",
          "text": [
            "The Spearman's correlation coefficient is: 0.043\n",
            "The Spearman's correlation coefficient is: -0.027\n"
          ],
          "name": "stdout"
        }
      ]
    },
    {
      "cell_type": "markdown",
      "metadata": {
        "id": "K4QI-qDR4au7",
        "colab_type": "text"
      },
      "source": [
        "**2.** Decision Tree Regressor Model"
      ]
    },
    {
      "cell_type": "code",
      "metadata": {
        "id": "7bCAmNrW4boe",
        "colab_type": "code",
        "outputId": "c4ac4547-57c1-4ce2-ba9d-9771b8faba14",
        "colab": {
          "base_uri": "https://localhost:8080/",
          "height": 119
        }
      },
      "source": [
        "from sklearn.tree import DecisionTreeRegressor\n",
        "dtr_2=DecisionTreeRegressor()\n",
        "dtr_2.fit(X2_train,y2_train)"
      ],
      "execution_count": 0,
      "outputs": [
        {
          "output_type": "execute_result",
          "data": {
            "text/plain": [
              "DecisionTreeRegressor(ccp_alpha=0.0, criterion='mse', max_depth=None,\n",
              "                      max_features=None, max_leaf_nodes=None,\n",
              "                      min_impurity_decrease=0.0, min_impurity_split=None,\n",
              "                      min_samples_leaf=1, min_samples_split=2,\n",
              "                      min_weight_fraction_leaf=0.0, presort='deprecated',\n",
              "                      random_state=None, splitter='best')"
            ]
          },
          "metadata": {
            "tags": []
          },
          "execution_count": 54
        }
      ]
    },
    {
      "cell_type": "code",
      "metadata": {
        "id": "s-jXcMKt4uEv",
        "colab_type": "code",
        "outputId": "d8d6c88b-c531-4cbd-812f-40528a16a3a7",
        "colab": {
          "base_uri": "https://localhost:8080/",
          "height": 51
        }
      },
      "source": [
        "Prediction_10 = dtr_2.predict(X2_test)\n",
        "Get_score(Prediction_10, y2_test)"
      ],
      "execution_count": 0,
      "outputs": [
        {
          "output_type": "stream",
          "text": [
            "The Spearman's correlation coefficient is: 0.087\n",
            "The Spearman's correlation coefficient is: 0.043\n"
          ],
          "name": "stdout"
        }
      ]
    },
    {
      "cell_type": "markdown",
      "metadata": {
        "id": "bSwtDitd5B7K",
        "colab_type": "text"
      },
      "source": [
        "**3.** Random Forest Regerssor Model "
      ]
    },
    {
      "cell_type": "code",
      "metadata": {
        "id": "51OrD8MO5D4Q",
        "colab_type": "code",
        "outputId": "f6705ef2-bb00-41a7-e614-3dc32b30518f",
        "colab": {
          "base_uri": "https://localhost:8080/",
          "height": 136
        }
      },
      "source": [
        "from sklearn.ensemble import RandomForestRegressor\n",
        "rfr_10_2 = RandomForestRegressor(max_depth= 20,n_estimators=10)\n",
        "rfr_10_2.fit(X2_train,y2_train)"
      ],
      "execution_count": 0,
      "outputs": [
        {
          "output_type": "execute_result",
          "data": {
            "text/plain": [
              "RandomForestRegressor(bootstrap=True, ccp_alpha=0.0, criterion='mse',\n",
              "                      max_depth=20, max_features='auto', max_leaf_nodes=None,\n",
              "                      max_samples=None, min_impurity_decrease=0.0,\n",
              "                      min_impurity_split=None, min_samples_leaf=1,\n",
              "                      min_samples_split=2, min_weight_fraction_leaf=0.0,\n",
              "                      n_estimators=10, n_jobs=None, oob_score=False,\n",
              "                      random_state=None, verbose=0, warm_start=False)"
            ]
          },
          "metadata": {
            "tags": []
          },
          "execution_count": 56
        }
      ]
    },
    {
      "cell_type": "code",
      "metadata": {
        "id": "YGOEr_OV6JAC",
        "colab_type": "code",
        "outputId": "ea91d6d5-0f20-4c5f-da3a-115d5cf0eef3",
        "colab": {
          "base_uri": "https://localhost:8080/",
          "height": 51
        }
      },
      "source": [
        "Prediction_11 = rfr_10_2.predict(X2_test)\n",
        "Get_score(Prediction_11, y2_test)"
      ],
      "execution_count": 0,
      "outputs": [
        {
          "output_type": "stream",
          "text": [
            "The Spearman's correlation coefficient is: 0.224\n",
            "The Spearman's correlation coefficient is: 0.056\n"
          ],
          "name": "stdout"
        }
      ]
    },
    {
      "cell_type": "markdown",
      "metadata": {
        "id": "efgKYDaM6elU",
        "colab_type": "text"
      },
      "source": [
        "With estimator = 100"
      ]
    },
    {
      "cell_type": "code",
      "metadata": {
        "id": "NE5mq2b06iYW",
        "colab_type": "code",
        "outputId": "d00d11d3-24e1-4805-c1d5-ce8ea35a9bdf",
        "colab": {
          "base_uri": "https://localhost:8080/",
          "height": 136
        }
      },
      "source": [
        "from sklearn.ensemble import RandomForestRegressor\n",
        "rfr_100_2 = RandomForestRegressor(max_depth= 20,n_estimators=100)\n",
        "rfr_100_2.fit(X2_train,y2_train)"
      ],
      "execution_count": 0,
      "outputs": [
        {
          "output_type": "execute_result",
          "data": {
            "text/plain": [
              "RandomForestRegressor(bootstrap=True, ccp_alpha=0.0, criterion='mse',\n",
              "                      max_depth=20, max_features='auto', max_leaf_nodes=None,\n",
              "                      max_samples=None, min_impurity_decrease=0.0,\n",
              "                      min_impurity_split=None, min_samples_leaf=1,\n",
              "                      min_samples_split=2, min_weight_fraction_leaf=0.0,\n",
              "                      n_estimators=100, n_jobs=None, oob_score=False,\n",
              "                      random_state=None, verbose=0, warm_start=False)"
            ]
          },
          "metadata": {
            "tags": []
          },
          "execution_count": 58
        }
      ]
    },
    {
      "cell_type": "code",
      "metadata": {
        "id": "qoftbS6T7Hlm",
        "colab_type": "code",
        "outputId": "e11de393-c56e-465e-bfeb-8d76d993b093",
        "colab": {
          "base_uri": "https://localhost:8080/",
          "height": 51
        }
      },
      "source": [
        "Prediction_12 = rfr_100_2.predict(X2_test)\n",
        "Get_score(Prediction_12, y2_test)"
      ],
      "execution_count": 0,
      "outputs": [
        {
          "output_type": "stream",
          "text": [
            "The Spearman's correlation coefficient is: 0.321\n",
            "The Spearman's correlation coefficient is: 0.112\n"
          ],
          "name": "stdout"
        }
      ]
    },
    {
      "cell_type": "markdown",
      "metadata": {
        "id": "5l4j-SA8AGU5",
        "colab_type": "text"
      },
      "source": [
        "**D) Semantic + Video feature: HMP + Captions.**"
      ]
    },
    {
      "cell_type": "markdown",
      "metadata": {
        "id": "ASLmscXZBo3-",
        "colab_type": "text"
      },
      "source": [
        "Since all pre-processing has been done for both HMP and Caption feature, thus use the variables for prediction."
      ]
    },
    {
      "cell_type": "markdown",
      "metadata": {
        "id": "78YncYJsDAE7",
        "colab_type": "text"
      },
      "source": [
        "Merging HMP[3-6078] and Caption into one frame."
      ]
    },
    {
      "cell_type": "code",
      "metadata": {
        "id": "Uq_TOsJdALDt",
        "colab_type": "code",
        "colab": {}
      },
      "source": [
        "HMP_Caption = numpy.concatenate((X_1, X_HMP), axis=1)"
      ],
      "execution_count": 0,
      "outputs": []
    },
    {
      "cell_type": "markdown",
      "metadata": {
        "id": "V-ZR2lwWET6b",
        "colab_type": "text"
      },
      "source": [
        "Defining X and Y"
      ]
    },
    {
      "cell_type": "code",
      "metadata": {
        "id": "2Q4AhPo_EXFd",
        "colab_type": "code",
        "colab": {}
      },
      "source": [
        "X_HMP_Caption = HMP_Caption\n",
        "Y_HMP_Caption= GroundTruth_Train.iloc[:, 1:3].values"
      ],
      "execution_count": 0,
      "outputs": []
    },
    {
      "cell_type": "markdown",
      "metadata": {
        "id": "SzNs0qeIFQl8",
        "colab_type": "text"
      },
      "source": [
        "Spliting Data into train and test"
      ]
    },
    {
      "cell_type": "code",
      "metadata": {
        "id": "6Uqfv73xFTgz",
        "colab_type": "code",
        "colab": {}
      },
      "source": [
        "X3_train, X3_test, y3_train, y3_test = train_test_split(X_HMP_Caption,Y_HMP_Caption, test_size=0.3)"
      ],
      "execution_count": 0,
      "outputs": []
    },
    {
      "cell_type": "markdown",
      "metadata": {
        "id": "9QZNPp-GF1w8",
        "colab_type": "text"
      },
      "source": [
        "**1.** LinearRegression Model.\n"
      ]
    },
    {
      "cell_type": "code",
      "metadata": {
        "id": "0SzLIXsH9N-J",
        "colab_type": "code",
        "outputId": "12dbf2b3-dfc7-479c-e0e4-b7a6a0c8c295",
        "colab": {
          "base_uri": "https://localhost:8080/",
          "height": 34
        }
      },
      "source": [
        "from sklearn.linear_model import LinearRegression\n",
        "lr_3 = LinearRegression()\n",
        "lr_3.fit(X3_train,y3_train)"
      ],
      "execution_count": 0,
      "outputs": [
        {
          "output_type": "execute_result",
          "data": {
            "text/plain": [
              "LinearRegression(copy_X=True, fit_intercept=True, n_jobs=None, normalize=False)"
            ]
          },
          "metadata": {
            "tags": []
          },
          "execution_count": 92
        }
      ]
    },
    {
      "cell_type": "code",
      "metadata": {
        "id": "wYetgc7j9OjM",
        "colab_type": "code",
        "outputId": "a43413e5-7be8-4188-aeba-a9107e856639",
        "colab": {
          "base_uri": "https://localhost:8080/",
          "height": 51
        }
      },
      "source": [
        "Prediction_13 = lr_3.predict(X3_test)\n",
        "Get_score(Prediction_13, y3_test)"
      ],
      "execution_count": 0,
      "outputs": [
        {
          "output_type": "stream",
          "text": [
            "The Spearman's correlation coefficient is: -0.008\n",
            "The Spearman's correlation coefficient is: 0.038\n"
          ],
          "name": "stdout"
        }
      ]
    },
    {
      "cell_type": "markdown",
      "metadata": {
        "id": "goRZ2wRz-HzN",
        "colab_type": "text"
      },
      "source": [
        "**2.** Decision Tree Regressor Model"
      ]
    },
    {
      "cell_type": "code",
      "metadata": {
        "id": "vVY2nYf79O6e",
        "colab_type": "code",
        "outputId": "72d43e68-5d9d-4abd-f508-d5d2fab405eb",
        "colab": {
          "base_uri": "https://localhost:8080/",
          "height": 119
        }
      },
      "source": [
        "from sklearn.tree import DecisionTreeRegressor\n",
        "dtr_3=DecisionTreeRegressor()\n",
        "dtr_3.fit(X3_train,y3_train)"
      ],
      "execution_count": 0,
      "outputs": [
        {
          "output_type": "execute_result",
          "data": {
            "text/plain": [
              "DecisionTreeRegressor(ccp_alpha=0.0, criterion='mse', max_depth=None,\n",
              "                      max_features=None, max_leaf_nodes=None,\n",
              "                      min_impurity_decrease=0.0, min_impurity_split=None,\n",
              "                      min_samples_leaf=1, min_samples_split=2,\n",
              "                      min_weight_fraction_leaf=0.0, presort='deprecated',\n",
              "                      random_state=None, splitter='best')"
            ]
          },
          "metadata": {
            "tags": []
          },
          "execution_count": 94
        }
      ]
    },
    {
      "cell_type": "code",
      "metadata": {
        "id": "CYcflyaw9PKx",
        "colab_type": "code",
        "outputId": "e622fcb5-5340-444e-c4d0-abe1dff075d3",
        "colab": {
          "base_uri": "https://localhost:8080/",
          "height": 51
        }
      },
      "source": [
        "Prediction_14 = dtr_3.predict(X3_test)\n",
        "Get_score(Prediction_14, y3_test)"
      ],
      "execution_count": 0,
      "outputs": [
        {
          "output_type": "stream",
          "text": [
            "The Spearman's correlation coefficient is: 0.093\n",
            "The Spearman's correlation coefficient is: 0.047\n"
          ],
          "name": "stdout"
        }
      ]
    },
    {
      "cell_type": "markdown",
      "metadata": {
        "id": "fIW4ACIA-u9p",
        "colab_type": "text"
      },
      "source": [
        "**3.** Random Forest Regressor Model"
      ]
    },
    {
      "cell_type": "markdown",
      "metadata": {
        "id": "xlThdpuc-2u7",
        "colab_type": "text"
      },
      "source": [
        "Estimator = 10"
      ]
    },
    {
      "cell_type": "code",
      "metadata": {
        "id": "X-b_-EM_9Pat",
        "colab_type": "code",
        "outputId": "09785ce5-2fa1-48bb-bdb7-f5c1f985e229",
        "colab": {
          "base_uri": "https://localhost:8080/",
          "height": 136
        }
      },
      "source": [
        "from sklearn.ensemble import RandomForestRegressor\n",
        "rfr_10_3 = RandomForestRegressor(max_depth= 20,n_estimators=10)\n",
        "rfr_10_3.fit(X3_train,y3_train)"
      ],
      "execution_count": 0,
      "outputs": [
        {
          "output_type": "execute_result",
          "data": {
            "text/plain": [
              "RandomForestRegressor(bootstrap=True, ccp_alpha=0.0, criterion='mse',\n",
              "                      max_depth=20, max_features='auto', max_leaf_nodes=None,\n",
              "                      max_samples=None, min_impurity_decrease=0.0,\n",
              "                      min_impurity_split=None, min_samples_leaf=1,\n",
              "                      min_samples_split=2, min_weight_fraction_leaf=0.0,\n",
              "                      n_estimators=10, n_jobs=None, oob_score=False,\n",
              "                      random_state=None, verbose=0, warm_start=False)"
            ]
          },
          "metadata": {
            "tags": []
          },
          "execution_count": 96
        }
      ]
    },
    {
      "cell_type": "code",
      "metadata": {
        "id": "KHOng0bf_IiO",
        "colab_type": "code",
        "outputId": "ae899717-7b97-4eca-aa5e-42d8e95d36a5",
        "colab": {
          "base_uri": "https://localhost:8080/",
          "height": 51
        }
      },
      "source": [
        "Prediction_15 = rfr_10_3.predict(X3_test)\n",
        "Get_score(Prediction_15, y3_test)"
      ],
      "execution_count": 0,
      "outputs": [
        {
          "output_type": "stream",
          "text": [
            "The Spearman's correlation coefficient is: 0.224\n",
            "The Spearman's correlation coefficient is: 0.035\n"
          ],
          "name": "stdout"
        }
      ]
    },
    {
      "cell_type": "markdown",
      "metadata": {
        "id": "2hkUwDyj_is-",
        "colab_type": "text"
      },
      "source": [
        "Estimator = 100"
      ]
    },
    {
      "cell_type": "code",
      "metadata": {
        "id": "OPrderiBFzOy",
        "colab_type": "code",
        "outputId": "f6bc65c3-ecdd-47a4-c75e-e532e3d8a5be",
        "colab": {
          "base_uri": "https://localhost:8080/",
          "height": 136
        }
      },
      "source": [
        "from sklearn.ensemble import RandomForestRegressor\n",
        "rfr_100_3 = RandomForestRegressor(max_depth= 20,n_estimators=100)\n",
        "rfr_100_3.fit(X3_train,y3_train)"
      ],
      "execution_count": 0,
      "outputs": [
        {
          "output_type": "execute_result",
          "data": {
            "text/plain": [
              "RandomForestRegressor(bootstrap=True, ccp_alpha=0.0, criterion='mse',\n",
              "                      max_depth=20, max_features='auto', max_leaf_nodes=None,\n",
              "                      max_samples=None, min_impurity_decrease=0.0,\n",
              "                      min_impurity_split=None, min_samples_leaf=1,\n",
              "                      min_samples_split=2, min_weight_fraction_leaf=0.0,\n",
              "                      n_estimators=100, n_jobs=None, oob_score=False,\n",
              "                      random_state=None, verbose=0, warm_start=False)"
            ]
          },
          "metadata": {
            "tags": []
          },
          "execution_count": 63
        }
      ]
    },
    {
      "cell_type": "code",
      "metadata": {
        "id": "8t3s0puVGtWH",
        "colab_type": "code",
        "outputId": "27cc87aa-a4b3-487d-bbb0-d3191a58d5a6",
        "colab": {
          "base_uri": "https://localhost:8080/",
          "height": 51
        }
      },
      "source": [
        "Prediction_11 = rfr_100_3.predict(X3_test)\n",
        "Get_score(Prediction_11, y3_test)"
      ],
      "execution_count": 0,
      "outputs": [
        {
          "output_type": "stream",
          "text": [
            "The Spearman's correlation coefficient is: 0.318\n",
            "The Spearman's correlation coefficient is: 0.138\n"
          ],
          "name": "stdout"
        }
      ]
    },
    {
      "cell_type": "markdown",
      "metadata": {
        "id": "vGm61w9qzcs8",
        "colab_type": "text"
      },
      "source": [
        "**Conclusion**"
      ]
    },
    {
      "cell_type": "markdown",
      "metadata": {
        "id": "0hjI3UMHw5Nw",
        "colab_type": "text"
      },
      "source": [
        "**Overall, Spearman's Correlation Score has been calculated for Caption, Caption with Weight, HMP and HMP+Caption. Where Captions with outperformed from all the models therefore, proceeding with Weighted Caption models for final Machine Learning model for prediction.**"
      ]
    },
    {
      "cell_type": "markdown",
      "metadata": {
        "id": "ecvGHysPzjvZ",
        "colab_type": "text"
      },
      "source": [
        "### **B) Final Step: Building Machine Learning Model on Semantic Feature: Weighted Caption.**"
      ]
    },
    {
      "cell_type": "code",
      "metadata": {
        "id": "gg3le6WPz_NR",
        "colab_type": "code",
        "colab": {}
      },
      "source": [
        "GroundTruth_Train_Final = pandas.read_csv('/content/drive/My Drive/CA684_Assignment/Dev-set/Ground-truth/ground-truth.csv')"
      ],
      "execution_count": 0,
      "outputs": []
    },
    {
      "cell_type": "code",
      "metadata": {
        "id": "21VKwej7KayV",
        "colab_type": "code",
        "outputId": "3d5ef33c-4022-46e8-829f-1c619753a748",
        "colab": {
          "base_uri": "https://localhost:8080/",
          "height": 204
        }
      },
      "source": [
        "GroundTruth_Train_Final = GroundTruth_Train_Final.drop(['nb_short-term_annotations','nb_long-term_annotations'],axis=1)\n",
        "GroundTruth_Train_Final.head()"
      ],
      "execution_count": 0,
      "outputs": [
        {
          "output_type": "execute_result",
          "data": {
            "text/html": [
              "<div>\n",
              "<style scoped>\n",
              "    .dataframe tbody tr th:only-of-type {\n",
              "        vertical-align: middle;\n",
              "    }\n",
              "\n",
              "    .dataframe tbody tr th {\n",
              "        vertical-align: top;\n",
              "    }\n",
              "\n",
              "    .dataframe thead th {\n",
              "        text-align: right;\n",
              "    }\n",
              "</style>\n",
              "<table border=\"1\" class=\"dataframe\">\n",
              "  <thead>\n",
              "    <tr style=\"text-align: right;\">\n",
              "      <th></th>\n",
              "      <th>video</th>\n",
              "      <th>short-term_memorability</th>\n",
              "      <th>long-term_memorability</th>\n",
              "    </tr>\n",
              "  </thead>\n",
              "  <tbody>\n",
              "    <tr>\n",
              "      <th>0</th>\n",
              "      <td>video3.webm</td>\n",
              "      <td>0.924</td>\n",
              "      <td>0.846</td>\n",
              "    </tr>\n",
              "    <tr>\n",
              "      <th>1</th>\n",
              "      <td>video4.webm</td>\n",
              "      <td>0.923</td>\n",
              "      <td>0.667</td>\n",
              "    </tr>\n",
              "    <tr>\n",
              "      <th>2</th>\n",
              "      <td>video6.webm</td>\n",
              "      <td>0.863</td>\n",
              "      <td>0.700</td>\n",
              "    </tr>\n",
              "    <tr>\n",
              "      <th>3</th>\n",
              "      <td>video8.webm</td>\n",
              "      <td>0.922</td>\n",
              "      <td>0.818</td>\n",
              "    </tr>\n",
              "    <tr>\n",
              "      <th>4</th>\n",
              "      <td>video10.webm</td>\n",
              "      <td>0.950</td>\n",
              "      <td>0.900</td>\n",
              "    </tr>\n",
              "  </tbody>\n",
              "</table>\n",
              "</div>"
            ],
            "text/plain": [
              "          video  short-term_memorability  long-term_memorability\n",
              "0   video3.webm                    0.924                   0.846\n",
              "1   video4.webm                    0.923                   0.667\n",
              "2   video6.webm                    0.863                   0.700\n",
              "3   video8.webm                    0.922                   0.818\n",
              "4  video10.webm                    0.950                   0.900"
            ]
          },
          "metadata": {
            "tags": []
          },
          "execution_count": 66
        }
      ]
    },
    {
      "cell_type": "code",
      "metadata": {
        "id": "Hej8UwPVKhBx",
        "colab_type": "code",
        "outputId": "50511537-afb6-4797-f0a2-1ab0c73bd2ac",
        "colab": {
          "base_uri": "https://localhost:8080/",
          "height": 34
        }
      },
      "source": [
        "%ls '/content/drive/My Drive/CA684_Assignment/Test-set/Ground-truth_test/'"
      ],
      "execution_count": 0,
      "outputs": [
        {
          "output_type": "stream",
          "text": [
            "ground_truth_template.csv\n"
          ],
          "name": "stdout"
        }
      ]
    },
    {
      "cell_type": "code",
      "metadata": {
        "id": "wUcs5qbSK0Gy",
        "colab_type": "code",
        "outputId": "5e88f577-e5f1-45d9-aa31-d8af937256e7",
        "colab": {
          "base_uri": "https://localhost:8080/",
          "height": 204
        }
      },
      "source": [
        "GroundTruth_Test = pandas.read_csv('/content/drive/My Drive/CA684_Assignment/Test-set/Ground-truth_test/ground_truth_template.csv')\n",
        "GroundTruth_Test.head()"
      ],
      "execution_count": 0,
      "outputs": [
        {
          "output_type": "execute_result",
          "data": {
            "text/html": [
              "<div>\n",
              "<style scoped>\n",
              "    .dataframe tbody tr th:only-of-type {\n",
              "        vertical-align: middle;\n",
              "    }\n",
              "\n",
              "    .dataframe tbody tr th {\n",
              "        vertical-align: top;\n",
              "    }\n",
              "\n",
              "    .dataframe thead th {\n",
              "        text-align: right;\n",
              "    }\n",
              "</style>\n",
              "<table border=\"1\" class=\"dataframe\">\n",
              "  <thead>\n",
              "    <tr style=\"text-align: right;\">\n",
              "      <th></th>\n",
              "      <th>video</th>\n",
              "      <th>short-term_memorability</th>\n",
              "      <th>nb_short-term_annotations</th>\n",
              "      <th>long-term_memorability</th>\n",
              "      <th>nb_long-term_annotations</th>\n",
              "    </tr>\n",
              "  </thead>\n",
              "  <tbody>\n",
              "    <tr>\n",
              "      <th>0</th>\n",
              "      <td>7494</td>\n",
              "      <td>NaN</td>\n",
              "      <td>33</td>\n",
              "      <td>NaN</td>\n",
              "      <td>12</td>\n",
              "    </tr>\n",
              "    <tr>\n",
              "      <th>1</th>\n",
              "      <td>7495</td>\n",
              "      <td>NaN</td>\n",
              "      <td>34</td>\n",
              "      <td>NaN</td>\n",
              "      <td>10</td>\n",
              "    </tr>\n",
              "    <tr>\n",
              "      <th>2</th>\n",
              "      <td>7496</td>\n",
              "      <td>NaN</td>\n",
              "      <td>32</td>\n",
              "      <td>NaN</td>\n",
              "      <td>13</td>\n",
              "    </tr>\n",
              "    <tr>\n",
              "      <th>3</th>\n",
              "      <td>7497</td>\n",
              "      <td>NaN</td>\n",
              "      <td>33</td>\n",
              "      <td>NaN</td>\n",
              "      <td>10</td>\n",
              "    </tr>\n",
              "    <tr>\n",
              "      <th>4</th>\n",
              "      <td>7498</td>\n",
              "      <td>NaN</td>\n",
              "      <td>33</td>\n",
              "      <td>NaN</td>\n",
              "      <td>10</td>\n",
              "    </tr>\n",
              "  </tbody>\n",
              "</table>\n",
              "</div>"
            ],
            "text/plain": [
              "   video  ...  nb_long-term_annotations\n",
              "0   7494  ...                        12\n",
              "1   7495  ...                        10\n",
              "2   7496  ...                        13\n",
              "3   7497  ...                        10\n",
              "4   7498  ...                        10\n",
              "\n",
              "[5 rows x 5 columns]"
            ]
          },
          "metadata": {
            "tags": []
          },
          "execution_count": 68
        }
      ]
    },
    {
      "cell_type": "markdown",
      "metadata": {
        "id": "IoyJeC8CO3Dx",
        "colab_type": "text"
      },
      "source": [
        "Importing caption for train and test both."
      ]
    },
    {
      "cell_type": "code",
      "metadata": {
        "id": "13S2cJ0sO7OL",
        "colab_type": "code",
        "outputId": "e021bf58-140b-447e-fde7-0a7e22a43cb3",
        "colab": {
          "base_uri": "https://localhost:8080/",
          "height": 204
        }
      },
      "source": [
        "Caption_Train = pandas.read_csv('/content/drive/My Drive/CA684_Assignment/Dev-set/Captions/dev-set_video-captions.txt',names=('video','caption'),delimiter='\\t',header= None)\n",
        "Caption_Train.head()"
      ],
      "execution_count": 0,
      "outputs": [
        {
          "output_type": "execute_result",
          "data": {
            "text/html": [
              "<div>\n",
              "<style scoped>\n",
              "    .dataframe tbody tr th:only-of-type {\n",
              "        vertical-align: middle;\n",
              "    }\n",
              "\n",
              "    .dataframe tbody tr th {\n",
              "        vertical-align: top;\n",
              "    }\n",
              "\n",
              "    .dataframe thead th {\n",
              "        text-align: right;\n",
              "    }\n",
              "</style>\n",
              "<table border=\"1\" class=\"dataframe\">\n",
              "  <thead>\n",
              "    <tr style=\"text-align: right;\">\n",
              "      <th></th>\n",
              "      <th>video</th>\n",
              "      <th>caption</th>\n",
              "    </tr>\n",
              "  </thead>\n",
              "  <tbody>\n",
              "    <tr>\n",
              "      <th>0</th>\n",
              "      <td>video3.webm</td>\n",
              "      <td>blonde-woman-is-massaged-tilt-down</td>\n",
              "    </tr>\n",
              "    <tr>\n",
              "      <th>1</th>\n",
              "      <td>video4.webm</td>\n",
              "      <td>roulette-table-spinning-with-ball-in-closeup-shot</td>\n",
              "    </tr>\n",
              "    <tr>\n",
              "      <th>2</th>\n",
              "      <td>video6.webm</td>\n",
              "      <td>khr-gangsters</td>\n",
              "    </tr>\n",
              "    <tr>\n",
              "      <th>3</th>\n",
              "      <td>video8.webm</td>\n",
              "      <td>medical-helicopter-hovers-at-airport</td>\n",
              "    </tr>\n",
              "    <tr>\n",
              "      <th>4</th>\n",
              "      <td>video10.webm</td>\n",
              "      <td>couple-relaxing-on-picnic-crane-shot</td>\n",
              "    </tr>\n",
              "  </tbody>\n",
              "</table>\n",
              "</div>"
            ],
            "text/plain": [
              "          video                                            caption\n",
              "0   video3.webm                 blonde-woman-is-massaged-tilt-down\n",
              "1   video4.webm  roulette-table-spinning-with-ball-in-closeup-shot\n",
              "2   video6.webm                                      khr-gangsters\n",
              "3   video8.webm               medical-helicopter-hovers-at-airport\n",
              "4  video10.webm               couple-relaxing-on-picnic-crane-shot"
            ]
          },
          "metadata": {
            "tags": []
          },
          "execution_count": 69
        }
      ]
    },
    {
      "cell_type": "code",
      "metadata": {
        "id": "U5q4uGDHP0Nj",
        "colab_type": "code",
        "outputId": "8ee15509-e0a2-4df5-b253-89e752102932",
        "colab": {
          "base_uri": "https://localhost:8080/",
          "height": 204
        }
      },
      "source": [
        "Caption_Test = pandas.read_csv('/content/drive/My Drive/CA684_Assignment/Test-set/Captions_test/test-set-1_video-captions.txt',names=('video','caption'),delimiter='\\t',header= None)\n",
        "Caption_Test.head()"
      ],
      "execution_count": 0,
      "outputs": [
        {
          "output_type": "execute_result",
          "data": {
            "text/html": [
              "<div>\n",
              "<style scoped>\n",
              "    .dataframe tbody tr th:only-of-type {\n",
              "        vertical-align: middle;\n",
              "    }\n",
              "\n",
              "    .dataframe tbody tr th {\n",
              "        vertical-align: top;\n",
              "    }\n",
              "\n",
              "    .dataframe thead th {\n",
              "        text-align: right;\n",
              "    }\n",
              "</style>\n",
              "<table border=\"1\" class=\"dataframe\">\n",
              "  <thead>\n",
              "    <tr style=\"text-align: right;\">\n",
              "      <th></th>\n",
              "      <th>video</th>\n",
              "      <th>caption</th>\n",
              "    </tr>\n",
              "  </thead>\n",
              "  <tbody>\n",
              "    <tr>\n",
              "      <th>0</th>\n",
              "      <td>video7494.webm</td>\n",
              "      <td>green-jeep-struggling-to-drive-over-huge-rocks</td>\n",
              "    </tr>\n",
              "    <tr>\n",
              "      <th>1</th>\n",
              "      <td>video7495.webm</td>\n",
              "      <td>hiking-woman-tourist-is-walking-forward-in-mou...</td>\n",
              "    </tr>\n",
              "    <tr>\n",
              "      <th>2</th>\n",
              "      <td>video7496.webm</td>\n",
              "      <td>close-up-of-african-american-doctors-hands-usi...</td>\n",
              "    </tr>\n",
              "    <tr>\n",
              "      <th>3</th>\n",
              "      <td>video7497.webm</td>\n",
              "      <td>slow-motion-of-a-man-using-treadmill-in-the-gy...</td>\n",
              "    </tr>\n",
              "    <tr>\n",
              "      <th>4</th>\n",
              "      <td>video7498.webm</td>\n",
              "      <td>slow-motion-of-photographer-in-national-park</td>\n",
              "    </tr>\n",
              "  </tbody>\n",
              "</table>\n",
              "</div>"
            ],
            "text/plain": [
              "            video                                            caption\n",
              "0  video7494.webm     green-jeep-struggling-to-drive-over-huge-rocks\n",
              "1  video7495.webm  hiking-woman-tourist-is-walking-forward-in-mou...\n",
              "2  video7496.webm  close-up-of-african-american-doctors-hands-usi...\n",
              "3  video7497.webm  slow-motion-of-a-man-using-treadmill-in-the-gy...\n",
              "4  video7498.webm       slow-motion-of-photographer-in-national-park"
            ]
          },
          "metadata": {
            "tags": []
          },
          "execution_count": 70
        }
      ]
    },
    {
      "cell_type": "markdown",
      "metadata": {
        "id": "s87rrG0cQVPW",
        "colab_type": "text"
      },
      "source": [
        "Binding both Train and Test Captions"
      ]
    },
    {
      "cell_type": "code",
      "metadata": {
        "id": "JZt0RhEYQX4c",
        "colab_type": "code",
        "outputId": "de4d3a3f-3fb1-447a-8b67-c63ed6c4aee9",
        "colab": {
          "base_uri": "https://localhost:8080/",
          "height": 204
        }
      },
      "source": [
        "Captions_Train_Test = pandas.concat([Caption_Train,Caption_Test],ignore_index=True)\n",
        "Captions_Train_Test.head()"
      ],
      "execution_count": 0,
      "outputs": [
        {
          "output_type": "execute_result",
          "data": {
            "text/html": [
              "<div>\n",
              "<style scoped>\n",
              "    .dataframe tbody tr th:only-of-type {\n",
              "        vertical-align: middle;\n",
              "    }\n",
              "\n",
              "    .dataframe tbody tr th {\n",
              "        vertical-align: top;\n",
              "    }\n",
              "\n",
              "    .dataframe thead th {\n",
              "        text-align: right;\n",
              "    }\n",
              "</style>\n",
              "<table border=\"1\" class=\"dataframe\">\n",
              "  <thead>\n",
              "    <tr style=\"text-align: right;\">\n",
              "      <th></th>\n",
              "      <th>video</th>\n",
              "      <th>caption</th>\n",
              "    </tr>\n",
              "  </thead>\n",
              "  <tbody>\n",
              "    <tr>\n",
              "      <th>0</th>\n",
              "      <td>video3.webm</td>\n",
              "      <td>blonde-woman-is-massaged-tilt-down</td>\n",
              "    </tr>\n",
              "    <tr>\n",
              "      <th>1</th>\n",
              "      <td>video4.webm</td>\n",
              "      <td>roulette-table-spinning-with-ball-in-closeup-shot</td>\n",
              "    </tr>\n",
              "    <tr>\n",
              "      <th>2</th>\n",
              "      <td>video6.webm</td>\n",
              "      <td>khr-gangsters</td>\n",
              "    </tr>\n",
              "    <tr>\n",
              "      <th>3</th>\n",
              "      <td>video8.webm</td>\n",
              "      <td>medical-helicopter-hovers-at-airport</td>\n",
              "    </tr>\n",
              "    <tr>\n",
              "      <th>4</th>\n",
              "      <td>video10.webm</td>\n",
              "      <td>couple-relaxing-on-picnic-crane-shot</td>\n",
              "    </tr>\n",
              "  </tbody>\n",
              "</table>\n",
              "</div>"
            ],
            "text/plain": [
              "          video                                            caption\n",
              "0   video3.webm                 blonde-woman-is-massaged-tilt-down\n",
              "1   video4.webm  roulette-table-spinning-with-ball-in-closeup-shot\n",
              "2   video6.webm                                      khr-gangsters\n",
              "3   video8.webm               medical-helicopter-hovers-at-airport\n",
              "4  video10.webm               couple-relaxing-on-picnic-crane-shot"
            ]
          },
          "metadata": {
            "tags": []
          },
          "execution_count": 71
        }
      ]
    },
    {
      "cell_type": "code",
      "metadata": {
        "id": "iEhkB_bIREpE",
        "colab_type": "code",
        "outputId": "e89ceffa-9bef-4936-bed2-de3a0a23c529",
        "colab": {
          "base_uri": "https://localhost:8080/",
          "height": 51
        }
      },
      "source": [
        "import re\n",
        "import nltk \n",
        "nltk.download('stopwords') \n",
        "from nltk.corpus import stopwords\n",
        "from nltk.stem.porter import PorterStemmer\n",
        "\n",
        "word_bag = []\n",
        "word_weight = []\n",
        "for i in range(0, 6000):\n",
        "    local_weight = 0\n",
        "    video_caption = re.sub('[^a-zA-Z]', ' ', Captions_Train_Test['caption'][i])\n",
        "    video_caption = video_caption.lower() \n",
        "    video_caption = video_caption.split()\n",
        "    video_caption = [word for word in video_caption if not word in set(stopwords.words('english'))]\n",
        "    for word in video_caption:\n",
        "        if(word in set(positive_words_dict.keys())):\n",
        "                local_weight = local_weight + positive_words_dict[word]\n",
        "    word_weight.append(local_weight)\n",
        "    video_caption = ' '.join(video_caption)\n",
        "    word_bag.append(video_caption)"
      ],
      "execution_count": 0,
      "outputs": [
        {
          "output_type": "stream",
          "text": [
            "[nltk_data] Downloading package stopwords to /root/nltk_data...\n",
            "[nltk_data]   Package stopwords is already up-to-date!\n"
          ],
          "name": "stdout"
        }
      ]
    },
    {
      "cell_type": "code",
      "metadata": {
        "id": "N-K5q1GMT3i_",
        "colab_type": "code",
        "colab": {}
      },
      "source": [
        "word_weight_dataframe = pandas.DataFrame(numpy.array(word_weight).reshape(6000,1))"
      ],
      "execution_count": 0,
      "outputs": []
    },
    {
      "cell_type": "code",
      "metadata": {
        "id": "XxIpaf2pUhr4",
        "colab_type": "code",
        "colab": {}
      },
      "source": [
        "## Creating TfidfVectorizer Object\n",
        "from sklearn.feature_extraction.text import TfidfVectorizer\n",
        "tfidfV = TfidfVectorizer()\n"
      ],
      "execution_count": 0,
      "outputs": []
    },
    {
      "cell_type": "code",
      "metadata": {
        "id": "kkdWQLn5VeZd",
        "colab_type": "code",
        "colab": {}
      },
      "source": [
        "Captions = tfidfV.fit_transform(word_bag).toarray()\n",
        "Bind_Caption_Word = numpy.concatenate((Captions,word_weight_dataframe), axis=1)"
      ],
      "execution_count": 0,
      "outputs": []
    },
    {
      "cell_type": "code",
      "metadata": {
        "id": "XXBBfCeKWQbV",
        "colab_type": "code",
        "outputId": "c66afefe-5f60-4e24-da24-d4f5c6f918c9",
        "colab": {
          "base_uri": "https://localhost:8080/",
          "height": 51
        }
      },
      "source": [
        "print(Captions.shape)\n",
        "print(Bind_Caption_Word.shape)"
      ],
      "execution_count": 0,
      "outputs": [
        {
          "output_type": "stream",
          "text": [
            "(6000, 5087)\n",
            "(6000, 5088)\n"
          ],
          "name": "stdout"
        }
      ]
    },
    {
      "cell_type": "markdown",
      "metadata": {
        "id": "LFjz4MHpXHbR",
        "colab_type": "text"
      },
      "source": [
        "Now Merged Captions and corpus array will be splited manually into Train and Test."
      ]
    },
    {
      "cell_type": "code",
      "metadata": {
        "id": "kG3XnXcZWg9y",
        "colab_type": "code",
        "outputId": "768d47a1-f623-411a-e056-41271f27fc6f",
        "colab": {
          "base_uri": "https://localhost:8080/",
          "height": 51
        }
      },
      "source": [
        "X4_train = Bind_Caption_Word[:4000]\n",
        "X4_test = Bind_Caption_Word[4000:]\n",
        "print(X4_train.shape)\n",
        "print(X4_test.shape)"
      ],
      "execution_count": 0,
      "outputs": [
        {
          "output_type": "stream",
          "text": [
            "(4000, 5088)\n",
            "(2000, 5088)\n"
          ],
          "name": "stdout"
        }
      ]
    },
    {
      "cell_type": "code",
      "metadata": {
        "id": "KhF9cHnuY-gu",
        "colab_type": "code",
        "outputId": "a5ac6dd9-6e19-4b10-e3f3-7ff5d6a06f0a",
        "colab": {
          "base_uri": "https://localhost:8080/",
          "height": 34
        }
      },
      "source": [
        "Y4_train = GroundTruth_Train_Final.iloc[:4000, 1:3].values\n",
        "Y4_train.shape"
      ],
      "execution_count": 0,
      "outputs": [
        {
          "output_type": "execute_result",
          "data": {
            "text/plain": [
              "(4000, 2)"
            ]
          },
          "metadata": {
            "tags": []
          },
          "execution_count": 78
        }
      ]
    },
    {
      "cell_type": "code",
      "metadata": {
        "id": "KscrKBD6dQVv",
        "colab_type": "code",
        "outputId": "d44c0394-801a-4e7e-86e6-9e3092bf3fa1",
        "colab": {
          "base_uri": "https://localhost:8080/",
          "height": 34
        }
      },
      "source": [
        "Y4_test = GroundTruth_Train_Final.iloc[4000:, 1:3].values\n",
        "Y4_test.shape"
      ],
      "execution_count": 0,
      "outputs": [
        {
          "output_type": "execute_result",
          "data": {
            "text/plain": [
              "(2000, 2)"
            ]
          },
          "metadata": {
            "tags": []
          },
          "execution_count": 79
        }
      ]
    },
    {
      "cell_type": "markdown",
      "metadata": {
        "id": "iqFiMMedbtbd",
        "colab_type": "text"
      },
      "source": [
        "***Using Random Forest Regressor with estimator = 100 since it outperformed from Linear Regressor and Decision Tree Regressor and obtain good Spearman's correlation cofficient score.***"
      ]
    },
    {
      "cell_type": "code",
      "metadata": {
        "id": "RRpzkf_XdmbZ",
        "colab_type": "code",
        "outputId": "4fd854d1-8721-49eb-b126-e6010fea69a7",
        "colab": {
          "base_uri": "https://localhost:8080/",
          "height": 136
        }
      },
      "source": [
        "from sklearn.ensemble import RandomForestRegressor\n",
        "rfr_100_4 = RandomForestRegressor(max_depth= 20,n_estimators=100)\n",
        "rfr_100_4.fit(X4_train,Y4_train)"
      ],
      "execution_count": 0,
      "outputs": [
        {
          "output_type": "execute_result",
          "data": {
            "text/plain": [
              "RandomForestRegressor(bootstrap=True, ccp_alpha=0.0, criterion='mse',\n",
              "                      max_depth=20, max_features='auto', max_leaf_nodes=None,\n",
              "                      max_samples=None, min_impurity_decrease=0.0,\n",
              "                      min_impurity_split=None, min_samples_leaf=1,\n",
              "                      min_samples_split=2, min_weight_fraction_leaf=0.0,\n",
              "                      n_estimators=100, n_jobs=None, oob_score=False,\n",
              "                      random_state=None, verbose=0, warm_start=False)"
            ]
          },
          "metadata": {
            "tags": []
          },
          "execution_count": 80
        }
      ]
    },
    {
      "cell_type": "code",
      "metadata": {
        "id": "1LrV4hFresz-",
        "colab_type": "code",
        "outputId": "61e18de3-6d19-489c-fee5-946e06b10f64",
        "colab": {
          "base_uri": "https://localhost:8080/",
          "height": 51
        }
      },
      "source": [
        "Prediction_12 = rfr_100_4.predict(X4_test)\n",
        "Get_score(Prediction_12, Y4_test)"
      ],
      "execution_count": 0,
      "outputs": [
        {
          "output_type": "stream",
          "text": [
            "The Spearman's correlation coefficient is: 0.318\n",
            "The Spearman's correlation coefficient is: 0.173\n"
          ],
          "name": "stdout"
        }
      ]
    },
    {
      "cell_type": "code",
      "metadata": {
        "id": "EJTayU1bfJmF",
        "colab_type": "code",
        "outputId": "e423acfd-d61d-44eb-cced-26fa514e23da",
        "colab": {
          "base_uri": "https://localhost:8080/",
          "height": 51
        }
      },
      "source": [
        "print(Prediction_12.shape)\n",
        "print(type(Prediction_12))"
      ],
      "execution_count": 0,
      "outputs": [
        {
          "output_type": "stream",
          "text": [
            "(2000, 2)\n",
            "<class 'numpy.ndarray'>\n"
          ],
          "name": "stdout"
        }
      ]
    },
    {
      "cell_type": "markdown",
      "metadata": {
        "id": "_MRhQUXUjNeW",
        "colab_type": "text"
      },
      "source": [
        "### **C) Saving Results**"
      ]
    },
    {
      "cell_type": "code",
      "metadata": {
        "id": "xVrGuRtbjKr1",
        "colab_type": "code",
        "colab": {}
      },
      "source": [
        "Final = numpy.asarray(Prediction_12)\n",
        "numpy.savetxt(\"/content/drive/My Drive/Prediction_Video_Memorability.csv\", Final, delimiter=\",\")"
      ],
      "execution_count": 0,
      "outputs": []
    },
    {
      "cell_type": "code",
      "metadata": {
        "id": "SOkDAQ24oDNc",
        "colab_type": "code",
        "outputId": "b2082f2f-f830-408b-e9a9-03e3a50be7b7",
        "colab": {
          "base_uri": "https://localhost:8080/",
          "height": 204
        }
      },
      "source": [
        "Prediction_Video_Memorability = pandas.read_csv('/content/drive/My Drive/Prediction_Video_Memorability.csv', names=['short-term_memorability','long-term_memorability'])\n",
        "Prediction_Video_Memorability.head()"
      ],
      "execution_count": 0,
      "outputs": [
        {
          "output_type": "execute_result",
          "data": {
            "text/html": [
              "<div>\n",
              "<style scoped>\n",
              "    .dataframe tbody tr th:only-of-type {\n",
              "        vertical-align: middle;\n",
              "    }\n",
              "\n",
              "    .dataframe tbody tr th {\n",
              "        vertical-align: top;\n",
              "    }\n",
              "\n",
              "    .dataframe thead th {\n",
              "        text-align: right;\n",
              "    }\n",
              "</style>\n",
              "<table border=\"1\" class=\"dataframe\">\n",
              "  <thead>\n",
              "    <tr style=\"text-align: right;\">\n",
              "      <th></th>\n",
              "      <th>short-term_memorability</th>\n",
              "      <th>long-term_memorability</th>\n",
              "    </tr>\n",
              "  </thead>\n",
              "  <tbody>\n",
              "    <tr>\n",
              "      <th>0</th>\n",
              "      <td>0.847892</td>\n",
              "      <td>0.765770</td>\n",
              "    </tr>\n",
              "    <tr>\n",
              "      <th>1</th>\n",
              "      <td>0.906731</td>\n",
              "      <td>0.855989</td>\n",
              "    </tr>\n",
              "    <tr>\n",
              "      <th>2</th>\n",
              "      <td>0.896926</td>\n",
              "      <td>0.826620</td>\n",
              "    </tr>\n",
              "    <tr>\n",
              "      <th>3</th>\n",
              "      <td>0.856703</td>\n",
              "      <td>0.777345</td>\n",
              "    </tr>\n",
              "    <tr>\n",
              "      <th>4</th>\n",
              "      <td>0.857068</td>\n",
              "      <td>0.780128</td>\n",
              "    </tr>\n",
              "  </tbody>\n",
              "</table>\n",
              "</div>"
            ],
            "text/plain": [
              "   short-term_memorability  long-term_memorability\n",
              "0                 0.847892                0.765770\n",
              "1                 0.906731                0.855989\n",
              "2                 0.896926                0.826620\n",
              "3                 0.856703                0.777345\n",
              "4                 0.857068                0.780128"
            ]
          },
          "metadata": {
            "tags": []
          },
          "execution_count": 90
        }
      ]
    },
    {
      "cell_type": "code",
      "metadata": {
        "id": "ntnwze7goN9g",
        "colab_type": "code",
        "colab": {}
      },
      "source": [
        "GroundTruth_Test_new = GroundTruth_Test.drop(['short-term_memorability','long-term_memorability'],axis=1)"
      ],
      "execution_count": 0,
      "outputs": []
    },
    {
      "cell_type": "code",
      "metadata": {
        "id": "2Iv046qwsz3Z",
        "colab_type": "code",
        "outputId": "8e6adcb5-79a2-4fca-a4fb-39b84e13073d",
        "colab": {
          "base_uri": "https://localhost:8080/",
          "height": 204
        }
      },
      "source": [
        "FinalGroundTruth_Test = pandas.concat([GroundTruth_Test_new,Prediction_Video_Memorability],ignore_index=False,axis=1)\n",
        "FinalGroundTruth_Test.head()\n"
      ],
      "execution_count": 0,
      "outputs": [
        {
          "output_type": "execute_result",
          "data": {
            "text/html": [
              "<div>\n",
              "<style scoped>\n",
              "    .dataframe tbody tr th:only-of-type {\n",
              "        vertical-align: middle;\n",
              "    }\n",
              "\n",
              "    .dataframe tbody tr th {\n",
              "        vertical-align: top;\n",
              "    }\n",
              "\n",
              "    .dataframe thead th {\n",
              "        text-align: right;\n",
              "    }\n",
              "</style>\n",
              "<table border=\"1\" class=\"dataframe\">\n",
              "  <thead>\n",
              "    <tr style=\"text-align: right;\">\n",
              "      <th></th>\n",
              "      <th>video</th>\n",
              "      <th>nb_short-term_annotations</th>\n",
              "      <th>nb_long-term_annotations</th>\n",
              "      <th>short-term_memorability</th>\n",
              "      <th>long-term_memorability</th>\n",
              "    </tr>\n",
              "  </thead>\n",
              "  <tbody>\n",
              "    <tr>\n",
              "      <th>0</th>\n",
              "      <td>7494</td>\n",
              "      <td>33</td>\n",
              "      <td>12</td>\n",
              "      <td>0.847892</td>\n",
              "      <td>0.765770</td>\n",
              "    </tr>\n",
              "    <tr>\n",
              "      <th>1</th>\n",
              "      <td>7495</td>\n",
              "      <td>34</td>\n",
              "      <td>10</td>\n",
              "      <td>0.906731</td>\n",
              "      <td>0.855989</td>\n",
              "    </tr>\n",
              "    <tr>\n",
              "      <th>2</th>\n",
              "      <td>7496</td>\n",
              "      <td>32</td>\n",
              "      <td>13</td>\n",
              "      <td>0.896926</td>\n",
              "      <td>0.826620</td>\n",
              "    </tr>\n",
              "    <tr>\n",
              "      <th>3</th>\n",
              "      <td>7497</td>\n",
              "      <td>33</td>\n",
              "      <td>10</td>\n",
              "      <td>0.856703</td>\n",
              "      <td>0.777345</td>\n",
              "    </tr>\n",
              "    <tr>\n",
              "      <th>4</th>\n",
              "      <td>7498</td>\n",
              "      <td>33</td>\n",
              "      <td>10</td>\n",
              "      <td>0.857068</td>\n",
              "      <td>0.780128</td>\n",
              "    </tr>\n",
              "  </tbody>\n",
              "</table>\n",
              "</div>"
            ],
            "text/plain": [
              "   video  ...  long-term_memorability\n",
              "0   7494  ...                0.765770\n",
              "1   7495  ...                0.855989\n",
              "2   7496  ...                0.826620\n",
              "3   7497  ...                0.777345\n",
              "4   7498  ...                0.780128\n",
              "\n",
              "[5 rows x 5 columns]"
            ]
          },
          "metadata": {
            "tags": []
          },
          "execution_count": 86
        }
      ]
    },
    {
      "cell_type": "code",
      "metadata": {
        "id": "SigUBttjtfgT",
        "colab_type": "code",
        "outputId": "f9ce7724-53ba-4baf-d89a-642c593359b3",
        "colab": {
          "base_uri": "https://localhost:8080/",
          "height": 34
        }
      },
      "source": [
        "FinalGroundTruth_Test.shape"
      ],
      "execution_count": 0,
      "outputs": [
        {
          "output_type": "execute_result",
          "data": {
            "text/plain": [
              "(2000, 5)"
            ]
          },
          "metadata": {
            "tags": []
          },
          "execution_count": 87
        }
      ]
    },
    {
      "cell_type": "code",
      "metadata": {
        "id": "gZrCmWW9BY7F",
        "colab_type": "code",
        "colab": {}
      },
      "source": [
        "export_csv = FinalGroundTruth_Test.to_csv (r'/content/drive/My Drive/Ground_Test_Prediction.csv', index = None, header=True)"
      ],
      "execution_count": 0,
      "outputs": []
    },
    {
      "cell_type": "markdown",
      "metadata": {
        "id": "qhFkvRhObF8G",
        "colab_type": "text"
      },
      "source": [
        "**----------------------------------------------------------------------------------END OF WORK-----------------------------------------------------------------**"
      ]
    }
  ]
}